{
  "nbformat": 4,
  "nbformat_minor": 0,
  "metadata": {
    "colab": {
      "provenance": [],
      "authorship_tag": "ABX9TyPFZTgGM0Bpo3+xToNMgaoL",
      "include_colab_link": true
    },
    "kernelspec": {
      "name": "python3",
      "display_name": "Python 3"
    },
    "language_info": {
      "name": "python"
    }
  },
  "cells": [
    {
      "cell_type": "markdown",
      "metadata": {
        "id": "view-in-github",
        "colab_type": "text"
      },
      "source": [
        "<a href=\"https://colab.research.google.com/github/NajlaaNawaii/Karpathy-s-Neural-Networks-/blob/main/Building_Micrograd.ipynb\" target=\"_parent\"><img src=\"https://colab.research.google.com/assets/colab-badge.svg\" alt=\"Open In Colab\"/></a>"
      ]
    },
    {
      "cell_type": "markdown",
      "source": [
        "#Derivatives\n",
        "- When I differentiate a function with respect to a particular variable, I'm determining how much the function's value changes when I slightly adjust that specific variable."
      ],
      "metadata": {
        "id": "9i4MnGRVVuPo"
      }
    },
    {
      "cell_type": "code",
      "execution_count": 2,
      "metadata": {
        "colab": {
          "base_uri": "https://localhost:8080/"
        },
        "id": "tziNhcAqPpUN",
        "outputId": "e23ecc67-6e49-46a4-dbea-cc36870ffd78"
      },
      "outputs": [
        {
          "output_type": "execute_result",
          "data": {
            "text/plain": [
              "Value(data=-8.0)"
            ]
          },
          "metadata": {},
          "execution_count": 2
        }
      ],
      "source": [
        "class Value:\n",
        "\n",
        "  def __init__(self,data,_children=(),_op=\"\",label=\"\"):\n",
        "    self.data=data\n",
        "    self._prev=set(_children)\n",
        "    self.grad=0\n",
        "    self._op=_op\n",
        "    self.label=label\n",
        "\n",
        "#This special method to define a string representation\n",
        "  def __repr__(self):\n",
        "    return f\"Value(data={self.data})\"\n",
        "\n",
        "#This is a special method to define an addition operation\n",
        "  def __add__(self,other):\n",
        "    return Value(self.data + other.data, (self,other),\"+\")\n",
        "\n",
        "#This is a special method to define a multiplication operation\n",
        "  def __mul__(self,other):\n",
        "    return Value(self.data * other.data, (self,other),\"*\")\n",
        "\n",
        "\n",
        "  def tanh(self):\n",
        "    x=self.data\n",
        "    output=(np.exp(2*x)-1)/(np.exp(2*x)+1)\n",
        "    output=Value(output, (self,),\"tanh\")\n",
        "    return output\n",
        "\n",
        "\n",
        "\n",
        "\n",
        "\n",
        "\n",
        ""
      ]
    },
    {
      "cell_type": "code",
      "source": [
        "a=Value(2.0,label=\"a\")\n",
        "b=Value(-3.0,label=\"b\")\n",
        "c=Value(10.0,label=\"c\")\n",
        "f=Value(-2.0,label=\"f\")\n",
        "e=a*b; e.label=\"e\"\n",
        "d=e+c; d.label=\"d\"\n",
        "L = d*f; L.label=\"L\"\n",
        "L\n",
        "\n"
      ],
      "metadata": {
        "colab": {
          "base_uri": "https://localhost:8080/"
        },
        "id": "qDWDn-HGiH5N",
        "outputId": "dc592f56-8ed1-4fac-ee1e-c85d631f0a99"
      },
      "execution_count": 12,
      "outputs": [
        {
          "output_type": "execute_result",
          "data": {
            "text/plain": [
              "Value(data=-8.0)"
            ]
          },
          "metadata": {},
          "execution_count": 12
        }
      ]
    },
    {
      "cell_type": "markdown",
      "source": [
        "#Visualization code that I didn't write\n"
      ],
      "metadata": {
        "id": "aQ6lmZrSgL0X"
      }
    },
    {
      "cell_type": "code",
      "source": [
        "from graphviz import Digraph\n",
        "\n",
        "def trace(root):\n",
        "    # builds a set of all nodes and edges in a graph\n",
        "    nodes, edges = set(), set()\n",
        "    def build(v):\n",
        "        if v not in nodes:\n",
        "            nodes.add(v)\n",
        "            for child in v._prev:\n",
        "                edges.add((child, v))\n",
        "                build(child)\n",
        "    build(root)\n",
        "    return nodes, edges\n",
        "\n",
        "def draw_dot(root):\n",
        "    dot = Digraph(format='svg', graph_attr={'rankdir': 'LR'})  # LR = left to right\n",
        "\n",
        "    nodes, edges = trace(root)\n",
        "\n",
        "    for n in nodes:\n",
        "        uid = str(id(n))\n",
        "        # for any value in the graph, create a rectangular ('record') node for it\n",
        "        dot.node(name=uid, label=\"{ %s | data %.4f |grad %.4f}\" % (n.label, n.data, n.grad), shape='record')\n",
        "        if n._op:\n",
        "            # if this value is a result of some operation, create an op node for it\n",
        "            dot.node(name=uid + n._op, label=n._op)\n",
        "            # and connect this node to it\n",
        "            dot.edge(uid + n._op, uid)\n",
        "\n",
        "    for n1, n2 in edges:\n",
        "        # connect n1 to the op node of n2\n",
        "        dot.edge(str(id(n1)), str(id(n2)) + n2._op)\n",
        "\n",
        "    return dot\n"
      ],
      "metadata": {
        "id": "OMZPhIrYfRIc"
      },
      "execution_count": 13,
      "outputs": []
    },
    {
      "cell_type": "code",
      "source": [
        "draw_dot(L)"
      ],
      "metadata": {
        "colab": {
          "base_uri": "https://localhost:8080/",
          "height": 212
        },
        "id": "BvGl75pBgTf2",
        "outputId": "8dfcf730-d437-4299-acd7-d4528522249c"
      },
      "execution_count": 14,
      "outputs": [
        {
          "output_type": "execute_result",
          "data": {
            "image/svg+xml": "<?xml version=\"1.0\" encoding=\"UTF-8\" standalone=\"no\"?>\n<!DOCTYPE svg PUBLIC \"-//W3C//DTD SVG 1.1//EN\"\n \"http://www.w3.org/Graphics/SVG/1.1/DTD/svg11.dtd\">\n<!-- Generated by graphviz version 2.43.0 (0)\n -->\n<!-- Title: %3 Pages: 1 -->\n<svg width=\"1148pt\" height=\"128pt\"\n viewBox=\"0.00 0.00 1148.00 128.00\" xmlns=\"http://www.w3.org/2000/svg\" xmlns:xlink=\"http://www.w3.org/1999/xlink\">\n<g id=\"graph0\" class=\"graph\" transform=\"scale(1 1) rotate(0) translate(4 124)\">\n<title>%3</title>\n<polygon fill=\"white\" stroke=\"transparent\" points=\"-4,4 -4,-124 1144,-124 1144,4 -4,4\"/>\n<!-- 131942610822688 -->\n<g id=\"node1\" class=\"node\">\n<title>131942610822688</title>\n<polygon fill=\"none\" stroke=\"black\" points=\"634,-82.5 634,-118.5 822,-118.5 822,-82.5 634,-82.5\"/>\n<text text-anchor=\"middle\" x=\"644.5\" y=\"-96.8\" font-family=\"Times,serif\" font-size=\"14.00\">f</text>\n<polyline fill=\"none\" stroke=\"black\" points=\"655,-82.5 655,-118.5 \"/>\n<text text-anchor=\"middle\" x=\"697.5\" y=\"-96.8\" font-family=\"Times,serif\" font-size=\"14.00\">data &#45;2.0000</text>\n<polyline fill=\"none\" stroke=\"black\" points=\"740,-82.5 740,-118.5 \"/>\n<text text-anchor=\"middle\" x=\"781\" y=\"-96.8\" font-family=\"Times,serif\" font-size=\"14.00\">grad 0.0000</text>\n</g>\n<!-- 131942610823408* -->\n<g id=\"node7\" class=\"node\">\n<title>131942610823408*</title>\n<ellipse fill=\"none\" stroke=\"black\" cx=\"885\" cy=\"-72.5\" rx=\"27\" ry=\"18\"/>\n<text text-anchor=\"middle\" x=\"885\" y=\"-68.8\" font-family=\"Times,serif\" font-size=\"14.00\">*</text>\n</g>\n<!-- 131942610822688&#45;&gt;131942610823408* -->\n<g id=\"edge8\" class=\"edge\">\n<title>131942610822688&#45;&gt;131942610823408*</title>\n<path fill=\"none\" stroke=\"black\" d=\"M822.29,-83.65C831.57,-81.97 840.52,-80.35 848.61,-78.89\"/>\n<polygon fill=\"black\" stroke=\"black\" points=\"849.46,-82.3 858.68,-77.07 848.21,-75.41 849.46,-82.3\"/>\n</g>\n<!-- 131942610823744 -->\n<g id=\"node2\" class=\"node\">\n<title>131942610823744</title>\n<polygon fill=\"none\" stroke=\"black\" points=\"0,-83.5 0,-119.5 190,-119.5 190,-83.5 0,-83.5\"/>\n<text text-anchor=\"middle\" x=\"11.5\" y=\"-97.8\" font-family=\"Times,serif\" font-size=\"14.00\">b</text>\n<polyline fill=\"none\" stroke=\"black\" points=\"23,-83.5 23,-119.5 \"/>\n<text text-anchor=\"middle\" x=\"65.5\" y=\"-97.8\" font-family=\"Times,serif\" font-size=\"14.00\">data &#45;3.0000</text>\n<polyline fill=\"none\" stroke=\"black\" points=\"108,-83.5 108,-119.5 \"/>\n<text text-anchor=\"middle\" x=\"149\" y=\"-97.8\" font-family=\"Times,serif\" font-size=\"14.00\">grad 0.0000</text>\n</g>\n<!-- 131942610824560* -->\n<g id=\"node9\" class=\"node\">\n<title>131942610824560*</title>\n<ellipse fill=\"none\" stroke=\"black\" cx=\"253\" cy=\"-73.5\" rx=\"27\" ry=\"18\"/>\n<text text-anchor=\"middle\" x=\"253\" y=\"-69.8\" font-family=\"Times,serif\" font-size=\"14.00\">*</text>\n</g>\n<!-- 131942610823744&#45;&gt;131942610824560* -->\n<g id=\"edge7\" class=\"edge\">\n<title>131942610823744&#45;&gt;131942610824560*</title>\n<path fill=\"none\" stroke=\"black\" d=\"M190.34,-84.57C199.62,-82.9 208.58,-81.29 216.66,-79.84\"/>\n<polygon fill=\"black\" stroke=\"black\" points=\"217.49,-83.25 226.72,-78.04 216.26,-76.36 217.49,-83.25\"/>\n</g>\n<!-- 131942610825808 -->\n<g id=\"node3\" class=\"node\">\n<title>131942610825808</title>\n<polygon fill=\"none\" stroke=\"black\" points=\"635.5,-27.5 635.5,-63.5 820.5,-63.5 820.5,-27.5 635.5,-27.5\"/>\n<text text-anchor=\"middle\" x=\"647\" y=\"-41.8\" font-family=\"Times,serif\" font-size=\"14.00\">d</text>\n<polyline fill=\"none\" stroke=\"black\" points=\"658.5,-27.5 658.5,-63.5 \"/>\n<text text-anchor=\"middle\" x=\"698.5\" y=\"-41.8\" font-family=\"Times,serif\" font-size=\"14.00\">data 4.0000</text>\n<polyline fill=\"none\" stroke=\"black\" points=\"738.5,-27.5 738.5,-63.5 \"/>\n<text text-anchor=\"middle\" x=\"779.5\" y=\"-41.8\" font-family=\"Times,serif\" font-size=\"14.00\">grad 0.0000</text>\n</g>\n<!-- 131942610825808&#45;&gt;131942610823408* -->\n<g id=\"edge4\" class=\"edge\">\n<title>131942610825808&#45;&gt;131942610823408*</title>\n<path fill=\"none\" stroke=\"black\" d=\"M820.51,-61.44C830.48,-63.18 840.13,-64.86 848.77,-66.36\"/>\n<polygon fill=\"black\" stroke=\"black\" points=\"848.31,-69.84 858.77,-68.1 849.52,-62.94 848.31,-69.84\"/>\n</g>\n<!-- 131942610825808+ -->\n<g id=\"node4\" class=\"node\">\n<title>131942610825808+</title>\n<ellipse fill=\"none\" stroke=\"black\" cx=\"571\" cy=\"-45.5\" rx=\"27\" ry=\"18\"/>\n<text text-anchor=\"middle\" x=\"571\" y=\"-41.8\" font-family=\"Times,serif\" font-size=\"14.00\">+</text>\n</g>\n<!-- 131942610825808+&#45;&gt;131942610825808 -->\n<g id=\"edge1\" class=\"edge\">\n<title>131942610825808+&#45;&gt;131942610825808</title>\n<path fill=\"none\" stroke=\"black\" d=\"M598.29,-45.5C606.26,-45.5 615.54,-45.5 625.39,-45.5\"/>\n<polygon fill=\"black\" stroke=\"black\" points=\"625.41,-49 635.41,-45.5 625.41,-42 625.41,-49\"/>\n</g>\n<!-- 131942610828928 -->\n<g id=\"node5\" class=\"node\">\n<title>131942610828928</title>\n<polygon fill=\"none\" stroke=\"black\" points=\"2.5,-28.5 2.5,-64.5 187.5,-64.5 187.5,-28.5 2.5,-28.5\"/>\n<text text-anchor=\"middle\" x=\"14\" y=\"-42.8\" font-family=\"Times,serif\" font-size=\"14.00\">a</text>\n<polyline fill=\"none\" stroke=\"black\" points=\"25.5,-28.5 25.5,-64.5 \"/>\n<text text-anchor=\"middle\" x=\"65.5\" y=\"-42.8\" font-family=\"Times,serif\" font-size=\"14.00\">data 2.0000</text>\n<polyline fill=\"none\" stroke=\"black\" points=\"105.5,-28.5 105.5,-64.5 \"/>\n<text text-anchor=\"middle\" x=\"146.5\" y=\"-42.8\" font-family=\"Times,serif\" font-size=\"14.00\">grad 0.0000</text>\n</g>\n<!-- 131942610828928&#45;&gt;131942610824560* -->\n<g id=\"edge9\" class=\"edge\">\n<title>131942610828928&#45;&gt;131942610824560*</title>\n<path fill=\"none\" stroke=\"black\" d=\"M187.65,-62.36C197.94,-64.14 207.91,-65.87 216.81,-67.41\"/>\n<polygon fill=\"black\" stroke=\"black\" points=\"216.26,-70.87 226.71,-69.12 217.45,-63.97 216.26,-70.87\"/>\n</g>\n<!-- 131942610823408 -->\n<g id=\"node6\" class=\"node\">\n<title>131942610823408</title>\n<polygon fill=\"none\" stroke=\"black\" points=\"948,-54.5 948,-90.5 1140,-90.5 1140,-54.5 948,-54.5\"/>\n<text text-anchor=\"middle\" x=\"960.5\" y=\"-68.8\" font-family=\"Times,serif\" font-size=\"14.00\">L</text>\n<polyline fill=\"none\" stroke=\"black\" points=\"973,-54.5 973,-90.5 \"/>\n<text text-anchor=\"middle\" x=\"1015.5\" y=\"-68.8\" font-family=\"Times,serif\" font-size=\"14.00\">data &#45;8.0000</text>\n<polyline fill=\"none\" stroke=\"black\" points=\"1058,-54.5 1058,-90.5 \"/>\n<text text-anchor=\"middle\" x=\"1099\" y=\"-68.8\" font-family=\"Times,serif\" font-size=\"14.00\">grad 0.0000</text>\n</g>\n<!-- 131942610823408*&#45;&gt;131942610823408 -->\n<g id=\"edge2\" class=\"edge\">\n<title>131942610823408*&#45;&gt;131942610823408</title>\n<path fill=\"none\" stroke=\"black\" d=\"M912.28,-72.5C919.78,-72.5 928.44,-72.5 937.67,-72.5\"/>\n<polygon fill=\"black\" stroke=\"black\" points=\"937.87,-76 947.87,-72.5 937.87,-69 937.87,-76\"/>\n</g>\n<!-- 131942610824560 -->\n<g id=\"node8\" class=\"node\">\n<title>131942610824560</title>\n<polygon fill=\"none\" stroke=\"black\" points=\"317,-55.5 317,-91.5 507,-91.5 507,-55.5 317,-55.5\"/>\n<text text-anchor=\"middle\" x=\"328.5\" y=\"-69.8\" font-family=\"Times,serif\" font-size=\"14.00\">e</text>\n<polyline fill=\"none\" stroke=\"black\" points=\"340,-55.5 340,-91.5 \"/>\n<text text-anchor=\"middle\" x=\"382.5\" y=\"-69.8\" font-family=\"Times,serif\" font-size=\"14.00\">data &#45;6.0000</text>\n<polyline fill=\"none\" stroke=\"black\" points=\"425,-55.5 425,-91.5 \"/>\n<text text-anchor=\"middle\" x=\"466\" y=\"-69.8\" font-family=\"Times,serif\" font-size=\"14.00\">grad 0.0000</text>\n</g>\n<!-- 131942610824560&#45;&gt;131942610825808+ -->\n<g id=\"edge6\" class=\"edge\">\n<title>131942610824560&#45;&gt;131942610825808+</title>\n<path fill=\"none\" stroke=\"black\" d=\"M507.05,-56.73C516.89,-54.97 526.39,-53.28 534.9,-51.76\"/>\n<polygon fill=\"black\" stroke=\"black\" points=\"535.52,-55.2 544.75,-50 534.29,-48.31 535.52,-55.2\"/>\n</g>\n<!-- 131942610824560*&#45;&gt;131942610824560 -->\n<g id=\"edge3\" class=\"edge\">\n<title>131942610824560*&#45;&gt;131942610824560</title>\n<path fill=\"none\" stroke=\"black\" d=\"M280.28,-73.5C288.05,-73.5 297.08,-73.5 306.68,-73.5\"/>\n<polygon fill=\"black\" stroke=\"black\" points=\"306.88,-77 316.88,-73.5 306.88,-70 306.88,-77\"/>\n</g>\n<!-- 131942610822640 -->\n<g id=\"node10\" class=\"node\">\n<title>131942610822640</title>\n<polygon fill=\"none\" stroke=\"black\" points=\"316,-0.5 316,-36.5 508,-36.5 508,-0.5 316,-0.5\"/>\n<text text-anchor=\"middle\" x=\"327.5\" y=\"-14.8\" font-family=\"Times,serif\" font-size=\"14.00\">c</text>\n<polyline fill=\"none\" stroke=\"black\" points=\"339,-0.5 339,-36.5 \"/>\n<text text-anchor=\"middle\" x=\"382.5\" y=\"-14.8\" font-family=\"Times,serif\" font-size=\"14.00\">data 10.0000</text>\n<polyline fill=\"none\" stroke=\"black\" points=\"426,-0.5 426,-36.5 \"/>\n<text text-anchor=\"middle\" x=\"467\" y=\"-14.8\" font-family=\"Times,serif\" font-size=\"14.00\">grad 0.0000</text>\n</g>\n<!-- 131942610822640&#45;&gt;131942610825808+ -->\n<g id=\"edge5\" class=\"edge\">\n<title>131942610822640&#45;&gt;131942610825808+</title>\n<path fill=\"none\" stroke=\"black\" d=\"M508.4,-34.91C517.69,-36.5 526.64,-38.04 534.71,-39.43\"/>\n<polygon fill=\"black\" stroke=\"black\" points=\"534.32,-42.91 544.76,-41.16 535.5,-36.02 534.32,-42.91\"/>\n</g>\n</g>\n</svg>\n",
            "text/plain": [
              "<graphviz.graphs.Digraph at 0x7800581377c0>"
            ]
          },
          "metadata": {},
          "execution_count": 14
        }
      ]
    },
    {
      "cell_type": "code",
      "source": [
        "import numpy as np"
      ],
      "metadata": {
        "id": "ngcFvIXpWSwU"
      },
      "execution_count": 5,
      "outputs": []
    },
    {
      "cell_type": "markdown",
      "source": [
        "#Neuron_BackPropagation_Manually"
      ],
      "metadata": {
        "id": "7lqbxPQY3fm4"
      }
    },
    {
      "cell_type": "code",
      "source": [
        "#Inputs\n",
        "x1=Value(2.0,label=\"x1\")\n",
        "x2=Value(0.0,label=\"x2\")\n",
        "\n",
        "#weights\n",
        "w1=Value(-3.0,label=\"w1\")\n",
        "w2=Value(1.0,label=\"w2\")\n",
        "\n",
        "#bias\n",
        "b=Value(6.8813735870195432,label=\"b\")\n",
        "\n",
        "\n",
        "#input_layer\n",
        "x1w1=x1*w1; x1w1.label=\"x1w1\"\n",
        "x2w2=x2*w2; x2w2.label=\"x2w2\"\n",
        "\n",
        "# output\n",
        "summed=x1w1+x2w2; summed.label=\"summed\"\n",
        "biased_sum=summed + b; biased_sum.label=\"biased_sum\"\n",
        "\n",
        "#activated_output\n",
        "activated_output= biased_sum.tanh(); activated_output.label=\"activated_output\""
      ],
      "metadata": {
        "id": "jkOOF1ujOBgw"
      },
      "execution_count": 34,
      "outputs": []
    },
    {
      "cell_type": "code",
      "source": [
        "draw_dot(activated_output)"
      ],
      "metadata": {
        "colab": {
          "base_uri": "https://localhost:8080/",
          "height": 321
        },
        "id": "d_hv6H3N2iNI",
        "outputId": "e37ed5bb-b24c-4ad7-f520-3080b01a601a"
      },
      "execution_count": 36,
      "outputs": [
        {
          "output_type": "execute_result",
          "data": {
            "image/svg+xml": "<?xml version=\"1.0\" encoding=\"UTF-8\" standalone=\"no\"?>\n<!DOCTYPE svg PUBLIC \"-//W3C//DTD SVG 1.1//EN\"\n \"http://www.w3.org/Graphics/SVG/1.1/DTD/svg11.dtd\">\n<!-- Generated by graphviz version 2.43.0 (0)\n -->\n<!-- Title: %3 Pages: 1 -->\n<svg width=\"1669pt\" height=\"210pt\"\n viewBox=\"0.00 0.00 1669.00 210.00\" xmlns=\"http://www.w3.org/2000/svg\" xmlns:xlink=\"http://www.w3.org/1999/xlink\">\n<g id=\"graph0\" class=\"graph\" transform=\"scale(1 1) rotate(0) translate(4 206)\">\n<title>%3</title>\n<polygon fill=\"white\" stroke=\"transparent\" points=\"-4,4 -4,-206 1665,-206 1665,4 -4,4\"/>\n<!-- 131941809285120 -->\n<g id=\"node1\" class=\"node\">\n<title>131941809285120</title>\n<polygon fill=\"none\" stroke=\"black\" points=\"326,-55.5 326,-91.5 540,-91.5 540,-55.5 326,-55.5\"/>\n<text text-anchor=\"middle\" x=\"349.5\" y=\"-69.8\" font-family=\"Times,serif\" font-size=\"14.00\">x1w1</text>\n<polyline fill=\"none\" stroke=\"black\" points=\"373,-55.5 373,-91.5 \"/>\n<text text-anchor=\"middle\" x=\"415.5\" y=\"-69.8\" font-family=\"Times,serif\" font-size=\"14.00\">data &#45;6.0000</text>\n<polyline fill=\"none\" stroke=\"black\" points=\"458,-55.5 458,-91.5 \"/>\n<text text-anchor=\"middle\" x=\"499\" y=\"-69.8\" font-family=\"Times,serif\" font-size=\"14.00\">grad 0.5000</text>\n</g>\n<!-- 131941809283296+ -->\n<g id=\"node14\" class=\"node\">\n<title>131941809283296+</title>\n<ellipse fill=\"none\" stroke=\"black\" cx=\"603\" cy=\"-100.5\" rx=\"27\" ry=\"18\"/>\n<text text-anchor=\"middle\" x=\"603\" y=\"-96.8\" font-family=\"Times,serif\" font-size=\"14.00\">+</text>\n</g>\n<!-- 131941809285120&#45;&gt;131941809283296+ -->\n<g id=\"edge13\" class=\"edge\">\n<title>131941809285120&#45;&gt;131941809283296+</title>\n<path fill=\"none\" stroke=\"black\" d=\"M540.4,-90.6C549.72,-92.1 558.65,-93.53 566.68,-94.82\"/>\n<polygon fill=\"black\" stroke=\"black\" points=\"566.24,-98.3 576.66,-96.43 567.35,-91.39 566.24,-98.3\"/>\n</g>\n<!-- 131941809285120* -->\n<g id=\"node2\" class=\"node\">\n<title>131941809285120*</title>\n<ellipse fill=\"none\" stroke=\"black\" cx=\"263\" cy=\"-73.5\" rx=\"27\" ry=\"18\"/>\n<text text-anchor=\"middle\" x=\"263\" y=\"-69.8\" font-family=\"Times,serif\" font-size=\"14.00\">*</text>\n</g>\n<!-- 131941809285120*&#45;&gt;131941809285120 -->\n<g id=\"edge1\" class=\"edge\">\n<title>131941809285120*&#45;&gt;131941809285120</title>\n<path fill=\"none\" stroke=\"black\" d=\"M290.25,-73.5C297.7,-73.5 306.34,-73.5 315.59,-73.5\"/>\n<polygon fill=\"black\" stroke=\"black\" points=\"315.84,-77 325.84,-73.5 315.84,-70 315.84,-77\"/>\n</g>\n<!-- 131941809280032 -->\n<g id=\"node3\" class=\"node\">\n<title>131941809280032</title>\n<polygon fill=\"none\" stroke=\"black\" points=\"4,-165.5 4,-201.5 196,-201.5 196,-165.5 4,-165.5\"/>\n<text text-anchor=\"middle\" x=\"19\" y=\"-179.8\" font-family=\"Times,serif\" font-size=\"14.00\">x2</text>\n<polyline fill=\"none\" stroke=\"black\" points=\"34,-165.5 34,-201.5 \"/>\n<text text-anchor=\"middle\" x=\"74\" y=\"-179.8\" font-family=\"Times,serif\" font-size=\"14.00\">data 0.0000</text>\n<polyline fill=\"none\" stroke=\"black\" points=\"114,-165.5 114,-201.5 \"/>\n<text text-anchor=\"middle\" x=\"155\" y=\"-179.8\" font-family=\"Times,serif\" font-size=\"14.00\">grad 0.5000</text>\n</g>\n<!-- 131941809282240* -->\n<g id=\"node11\" class=\"node\">\n<title>131941809282240*</title>\n<ellipse fill=\"none\" stroke=\"black\" cx=\"263\" cy=\"-128.5\" rx=\"27\" ry=\"18\"/>\n<text text-anchor=\"middle\" x=\"263\" y=\"-124.8\" font-family=\"Times,serif\" font-size=\"14.00\">*</text>\n</g>\n<!-- 131941809280032&#45;&gt;131941809282240* -->\n<g id=\"edge6\" class=\"edge\">\n<title>131941809280032&#45;&gt;131941809282240*</title>\n<path fill=\"none\" stroke=\"black\" d=\"M172.53,-165.44C181.84,-162.67 191.2,-159.67 200,-156.5 210.53,-152.71 221.75,-147.9 231.72,-143.33\"/>\n<polygon fill=\"black\" stroke=\"black\" points=\"233.25,-146.48 240.82,-139.07 230.28,-140.14 233.25,-146.48\"/>\n</g>\n<!-- 131941809278544 -->\n<g id=\"node4\" class=\"node\">\n<title>131941809278544</title>\n<polygon fill=\"none\" stroke=\"black\" points=\"2.5,-110.5 2.5,-146.5 197.5,-146.5 197.5,-110.5 2.5,-110.5\"/>\n<text text-anchor=\"middle\" x=\"19\" y=\"-124.8\" font-family=\"Times,serif\" font-size=\"14.00\">w2</text>\n<polyline fill=\"none\" stroke=\"black\" points=\"35.5,-110.5 35.5,-146.5 \"/>\n<text text-anchor=\"middle\" x=\"75.5\" y=\"-124.8\" font-family=\"Times,serif\" font-size=\"14.00\">data 1.0000</text>\n<polyline fill=\"none\" stroke=\"black\" points=\"115.5,-110.5 115.5,-146.5 \"/>\n<text text-anchor=\"middle\" x=\"156.5\" y=\"-124.8\" font-family=\"Times,serif\" font-size=\"14.00\">grad 0.0000</text>\n</g>\n<!-- 131941809278544&#45;&gt;131941809282240* -->\n<g id=\"edge9\" class=\"edge\">\n<title>131941809278544&#45;&gt;131941809282240*</title>\n<path fill=\"none\" stroke=\"black\" d=\"M197.91,-128.5C207.65,-128.5 217.05,-128.5 225.52,-128.5\"/>\n<polygon fill=\"black\" stroke=\"black\" points=\"225.7,-132 235.7,-128.5 225.7,-125 225.7,-132\"/>\n</g>\n<!-- 131941809289824 -->\n<g id=\"node5\" class=\"node\">\n<title>131941809289824</title>\n<polygon fill=\"none\" stroke=\"black\" points=\"2,-55.5 2,-91.5 198,-91.5 198,-55.5 2,-55.5\"/>\n<text text-anchor=\"middle\" x=\"17\" y=\"-69.8\" font-family=\"Times,serif\" font-size=\"14.00\">x1</text>\n<polyline fill=\"none\" stroke=\"black\" points=\"32,-55.5 32,-91.5 \"/>\n<text text-anchor=\"middle\" x=\"72\" y=\"-69.8\" font-family=\"Times,serif\" font-size=\"14.00\">data 2.0000</text>\n<polyline fill=\"none\" stroke=\"black\" points=\"112,-55.5 112,-91.5 \"/>\n<text text-anchor=\"middle\" x=\"155\" y=\"-69.8\" font-family=\"Times,serif\" font-size=\"14.00\">grad &#45;1.5000</text>\n</g>\n<!-- 131941809289824&#45;&gt;131941809285120* -->\n<g id=\"edge7\" class=\"edge\">\n<title>131941809289824&#45;&gt;131941809285120*</title>\n<path fill=\"none\" stroke=\"black\" d=\"M198.37,-73.5C208.05,-73.5 217.4,-73.5 225.8,-73.5\"/>\n<polygon fill=\"black\" stroke=\"black\" points=\"225.91,-77 235.91,-73.5 225.91,-70 225.91,-77\"/>\n</g>\n<!-- 131941809285792 -->\n<g id=\"node6\" class=\"node\">\n<title>131941809285792</title>\n<polygon fill=\"none\" stroke=\"black\" points=\"1392,-109.5 1392,-145.5 1661,-145.5 1661,-109.5 1392,-109.5\"/>\n<text text-anchor=\"middle\" x=\"1445.5\" y=\"-123.8\" font-family=\"Times,serif\" font-size=\"14.00\">activated_output</text>\n<polyline fill=\"none\" stroke=\"black\" points=\"1499,-109.5 1499,-145.5 \"/>\n<text text-anchor=\"middle\" x=\"1539\" y=\"-123.8\" font-family=\"Times,serif\" font-size=\"14.00\">data 0.7071</text>\n<polyline fill=\"none\" stroke=\"black\" points=\"1579,-109.5 1579,-145.5 \"/>\n<text text-anchor=\"middle\" x=\"1620\" y=\"-123.8\" font-family=\"Times,serif\" font-size=\"14.00\">grad 1.0000</text>\n</g>\n<!-- 131941809285792tanh -->\n<g id=\"node7\" class=\"node\">\n<title>131941809285792tanh</title>\n<ellipse fill=\"none\" stroke=\"black\" cx=\"1329\" cy=\"-127.5\" rx=\"27\" ry=\"18\"/>\n<text text-anchor=\"middle\" x=\"1329\" y=\"-123.8\" font-family=\"Times,serif\" font-size=\"14.00\">tanh</text>\n</g>\n<!-- 131941809285792tanh&#45;&gt;131941809285792 -->\n<g id=\"edge2\" class=\"edge\">\n<title>131941809285792tanh&#45;&gt;131941809285792</title>\n<path fill=\"none\" stroke=\"black\" d=\"M1356.37,-127.5C1363.79,-127.5 1372.43,-127.5 1381.79,-127.5\"/>\n<polygon fill=\"black\" stroke=\"black\" points=\"1381.79,-131 1391.79,-127.5 1381.79,-124 1381.79,-131\"/>\n</g>\n<!-- 131941809286320 -->\n<g id=\"node8\" class=\"node\">\n<title>131941809286320</title>\n<polygon fill=\"none\" stroke=\"black\" points=\"1023,-109.5 1023,-145.5 1266,-145.5 1266,-109.5 1023,-109.5\"/>\n<text text-anchor=\"middle\" x=\"1063.5\" y=\"-123.8\" font-family=\"Times,serif\" font-size=\"14.00\">biased_sum</text>\n<polyline fill=\"none\" stroke=\"black\" points=\"1104,-109.5 1104,-145.5 \"/>\n<text text-anchor=\"middle\" x=\"1144\" y=\"-123.8\" font-family=\"Times,serif\" font-size=\"14.00\">data 0.8814</text>\n<polyline fill=\"none\" stroke=\"black\" points=\"1184,-109.5 1184,-145.5 \"/>\n<text text-anchor=\"middle\" x=\"1225\" y=\"-123.8\" font-family=\"Times,serif\" font-size=\"14.00\">grad 0.5000</text>\n</g>\n<!-- 131941809286320&#45;&gt;131941809285792tanh -->\n<g id=\"edge12\" class=\"edge\">\n<title>131941809286320&#45;&gt;131941809285792tanh</title>\n<path fill=\"none\" stroke=\"black\" d=\"M1266.21,-127.5C1275.33,-127.5 1284,-127.5 1291.82,-127.5\"/>\n<polygon fill=\"black\" stroke=\"black\" points=\"1291.9,-131 1301.9,-127.5 1291.9,-124 1291.9,-131\"/>\n</g>\n<!-- 131941809286320+ -->\n<g id=\"node9\" class=\"node\">\n<title>131941809286320+</title>\n<ellipse fill=\"none\" stroke=\"black\" cx=\"960\" cy=\"-127.5\" rx=\"27\" ry=\"18\"/>\n<text text-anchor=\"middle\" x=\"960\" y=\"-123.8\" font-family=\"Times,serif\" font-size=\"14.00\">+</text>\n</g>\n<!-- 131941809286320+&#45;&gt;131941809286320 -->\n<g id=\"edge3\" class=\"edge\">\n<title>131941809286320+&#45;&gt;131941809286320</title>\n<path fill=\"none\" stroke=\"black\" d=\"M987.15,-127.5C994.53,-127.5 1003.1,-127.5 1012.35,-127.5\"/>\n<polygon fill=\"black\" stroke=\"black\" points=\"1012.63,-131 1022.63,-127.5 1012.63,-124 1012.63,-131\"/>\n</g>\n<!-- 131941809282240 -->\n<g id=\"node10\" class=\"node\">\n<title>131941809282240</title>\n<polygon fill=\"none\" stroke=\"black\" points=\"328.5,-110.5 328.5,-146.5 537.5,-146.5 537.5,-110.5 328.5,-110.5\"/>\n<text text-anchor=\"middle\" x=\"352\" y=\"-124.8\" font-family=\"Times,serif\" font-size=\"14.00\">x2w2</text>\n<polyline fill=\"none\" stroke=\"black\" points=\"375.5,-110.5 375.5,-146.5 \"/>\n<text text-anchor=\"middle\" x=\"415.5\" y=\"-124.8\" font-family=\"Times,serif\" font-size=\"14.00\">data 0.0000</text>\n<polyline fill=\"none\" stroke=\"black\" points=\"455.5,-110.5 455.5,-146.5 \"/>\n<text text-anchor=\"middle\" x=\"496.5\" y=\"-124.8\" font-family=\"Times,serif\" font-size=\"14.00\">grad 0.5000</text>\n</g>\n<!-- 131941809282240&#45;&gt;131941809283296+ -->\n<g id=\"edge14\" class=\"edge\">\n<title>131941809282240&#45;&gt;131941809283296+</title>\n<path fill=\"none\" stroke=\"black\" d=\"M537.53,-111.25C547.8,-109.53 557.66,-107.89 566.45,-106.43\"/>\n<polygon fill=\"black\" stroke=\"black\" points=\"567.3,-109.83 576.59,-104.74 566.15,-102.93 567.3,-109.83\"/>\n</g>\n<!-- 131941809282240*&#45;&gt;131941809282240 -->\n<g id=\"edge4\" class=\"edge\">\n<title>131941809282240*&#45;&gt;131941809282240</title>\n<path fill=\"none\" stroke=\"black\" d=\"M290.25,-128.5C298.43,-128.5 308.03,-128.5 318.31,-128.5\"/>\n<polygon fill=\"black\" stroke=\"black\" points=\"318.35,-132 328.35,-128.5 318.35,-125 318.35,-132\"/>\n</g>\n<!-- 131941809279696 -->\n<g id=\"node12\" class=\"node\">\n<title>131941809279696</title>\n<polygon fill=\"none\" stroke=\"black\" points=\"689,-137.5 689,-173.5 874,-173.5 874,-137.5 689,-137.5\"/>\n<text text-anchor=\"middle\" x=\"700.5\" y=\"-151.8\" font-family=\"Times,serif\" font-size=\"14.00\">b</text>\n<polyline fill=\"none\" stroke=\"black\" points=\"712,-137.5 712,-173.5 \"/>\n<text text-anchor=\"middle\" x=\"752\" y=\"-151.8\" font-family=\"Times,serif\" font-size=\"14.00\">data 6.8814</text>\n<polyline fill=\"none\" stroke=\"black\" points=\"792,-137.5 792,-173.5 \"/>\n<text text-anchor=\"middle\" x=\"833\" y=\"-151.8\" font-family=\"Times,serif\" font-size=\"14.00\">grad 0.5000</text>\n</g>\n<!-- 131941809279696&#45;&gt;131941809286320+ -->\n<g id=\"edge11\" class=\"edge\">\n<title>131941809279696&#45;&gt;131941809286320+</title>\n<path fill=\"none\" stroke=\"black\" d=\"M874.11,-140.97C891.67,-138.18 909.06,-135.42 923.48,-133.14\"/>\n<polygon fill=\"black\" stroke=\"black\" points=\"924.08,-136.58 933.41,-131.56 922.99,-129.67 924.08,-136.58\"/>\n</g>\n<!-- 131941809283296 -->\n<g id=\"node13\" class=\"node\">\n<title>131941809283296</title>\n<polygon fill=\"none\" stroke=\"black\" points=\"666,-82.5 666,-118.5 897,-118.5 897,-82.5 666,-82.5\"/>\n<text text-anchor=\"middle\" x=\"698\" y=\"-96.8\" font-family=\"Times,serif\" font-size=\"14.00\">summed</text>\n<polyline fill=\"none\" stroke=\"black\" points=\"730,-82.5 730,-118.5 \"/>\n<text text-anchor=\"middle\" x=\"772.5\" y=\"-96.8\" font-family=\"Times,serif\" font-size=\"14.00\">data &#45;6.0000</text>\n<polyline fill=\"none\" stroke=\"black\" points=\"815,-82.5 815,-118.5 \"/>\n<text text-anchor=\"middle\" x=\"856\" y=\"-96.8\" font-family=\"Times,serif\" font-size=\"14.00\">grad 0.5000</text>\n</g>\n<!-- 131941809283296&#45;&gt;131941809286320+ -->\n<g id=\"edge10\" class=\"edge\">\n<title>131941809283296&#45;&gt;131941809286320+</title>\n<path fill=\"none\" stroke=\"black\" d=\"M897.27,-118.06C906.61,-119.49 915.51,-120.85 923.5,-122.07\"/>\n<polygon fill=\"black\" stroke=\"black\" points=\"923.03,-125.54 933.44,-123.59 924.09,-118.62 923.03,-125.54\"/>\n</g>\n<!-- 131941809283296+&#45;&gt;131941809283296 -->\n<g id=\"edge5\" class=\"edge\">\n<title>131941809283296+&#45;&gt;131941809283296</title>\n<path fill=\"none\" stroke=\"black\" d=\"M630.04,-100.5C637.59,-100.5 646.37,-100.5 655.82,-100.5\"/>\n<polygon fill=\"black\" stroke=\"black\" points=\"655.89,-104 665.89,-100.5 655.89,-97 655.89,-104\"/>\n</g>\n<!-- 131941809289488 -->\n<g id=\"node15\" class=\"node\">\n<title>131941809289488</title>\n<polygon fill=\"none\" stroke=\"black\" points=\"0,-0.5 0,-36.5 200,-36.5 200,-0.5 0,-0.5\"/>\n<text text-anchor=\"middle\" x=\"16.5\" y=\"-14.8\" font-family=\"Times,serif\" font-size=\"14.00\">w1</text>\n<polyline fill=\"none\" stroke=\"black\" points=\"33,-0.5 33,-36.5 \"/>\n<text text-anchor=\"middle\" x=\"75.5\" y=\"-14.8\" font-family=\"Times,serif\" font-size=\"14.00\">data &#45;3.0000</text>\n<polyline fill=\"none\" stroke=\"black\" points=\"118,-0.5 118,-36.5 \"/>\n<text text-anchor=\"middle\" x=\"159\" y=\"-14.8\" font-family=\"Times,serif\" font-size=\"14.00\">grad 1.0000</text>\n</g>\n<!-- 131941809289488&#45;&gt;131941809285120* -->\n<g id=\"edge8\" class=\"edge\">\n<title>131941809289488&#45;&gt;131941809285120*</title>\n<path fill=\"none\" stroke=\"black\" d=\"M169.28,-36.5C179.65,-39.61 190.16,-42.98 200,-46.5 210.28,-50.17 221.28,-54.74 231.11,-59.07\"/>\n<polygon fill=\"black\" stroke=\"black\" points=\"229.93,-62.37 240.48,-63.27 232.79,-55.99 229.93,-62.37\"/>\n</g>\n</g>\n</svg>\n",
            "text/plain": [
              "<graphviz.graphs.Digraph at 0x780018ac7a30>"
            ]
          },
          "metadata": {},
          "execution_count": 36
        }
      ]
    },
    {
      "cell_type": "code",
      "source": [
        "#VERY IMPORTANT! BASE CASE!\n",
        "activated_output.grad=1.0\n",
        "\n",
        "#these expressions exectute the attribute \"_backward\" associated with each object which calls the function itself\n",
        "activated_output._backward()\n",
        "biased_sum._backward()\n",
        "summed._backward()\n",
        "x1w1._backward()\n",
        "x2w2._backward()\n",
        "w1._backward()\n",
        "w2._backward()\n",
        "b._backward()"
      ],
      "metadata": {
        "id": "0nMOM7cZiYPx"
      },
      "execution_count": 35,
      "outputs": []
    },
    {
      "cell_type": "code",
      "source": [
        "# #output_process\n",
        "# activated_output.grad=1.0\n",
        "# #3rd_process\n",
        "# # biased_sum.grad= 1 - (biased_sum.data)**2\n",
        "# biased_sum.grad = .5\n",
        "# #2nd_process\n",
        "# summed.grad= activated_output.grad * biased_sum.grad * 1\n",
        "# b.grad= activated_output.grad * biased_sum.grad * 1\n",
        "# #1st_process\n",
        "# x1w1.grad= summed.grad * 1\n",
        "# x2w2.grad= summed.grad * 1\n",
        "\n",
        "# #input\n",
        "# x1.grad=x1w1.grad * w1.data\n",
        "# x2.grad=x2w2.grad * w2.data\n",
        "# w1.grad=x1w1.grad * x1.data\n",
        "# w2.grad=x2w2.grad * x2.data\n"
      ],
      "metadata": {
        "id": "-hg2Lu12W44U"
      },
      "execution_count": 29,
      "outputs": []
    },
    {
      "cell_type": "markdown",
      "source": [
        "#Adding the backward"
      ],
      "metadata": {
        "id": "iYs1YP9mfzL7"
      }
    },
    {
      "cell_type": "code",
      "source": [
        "class Value:\n",
        "\n",
        "  def __init__(self,data,_children=(),_op=\"\",label=\"\"):\n",
        "    self.data=data\n",
        "    self._prev=set(_children)\n",
        "    #attribute that the backward function is assigned to, talk more???\n",
        "    self._backward=lambda:None\n",
        "    self.grad=0\n",
        "    self._op=_op\n",
        "    self.label=label\n",
        "\n",
        "#This special method to define a string representation\n",
        "  def __repr__(self):\n",
        "    return f\"Value(data={self.data})\"\n",
        "\n",
        "#This is a special method to define an addition operation\n",
        "  def __add__(self,other):\n",
        "    output=Value(self.data + other.data, (self,other),\"+\")\n",
        "    def _backward():\n",
        "      self.grad = 1.0 * output.grad\n",
        "      other.grad = 1.0 * output.grad\n",
        "    output._backward= _backward\n",
        "    return output\n",
        "\n",
        "#This is a special method to define a multiplication operation\n",
        "  def __mul__(self,other):\n",
        "    output=Value(self.data * other.data, (self,other),\"*\")\n",
        "    def _backward():\n",
        "      self.grad = other.data * output.grad\n",
        "      other.grad = self.data * output.grad\n",
        "\n",
        "    output._backward=_backward\n",
        "    return output\n",
        "\n",
        "\n",
        "  def tanh(self):\n",
        "    x=self.data\n",
        "    tanh_output=(np.exp(2*x)-1)/(np.exp(2*x)+1)\n",
        "    output=Value(tanh_output, (self,),\"tanh\")\n",
        "    def _backward():\n",
        "      self.grad=(1-tanh_output**2) * output.grad\n",
        "    output._backward=_backward\n",
        "    return output\n",
        "\n",
        "\n",
        "\n",
        "\n",
        ""
      ],
      "metadata": {
        "id": "JNUCPxt4W5Ah"
      },
      "execution_count": 33,
      "outputs": []
    },
    {
      "cell_type": "code",
      "source": [],
      "metadata": {
        "id": "aAATd3Zoh6U0"
      },
      "execution_count": null,
      "outputs": []
    }
  ]
}