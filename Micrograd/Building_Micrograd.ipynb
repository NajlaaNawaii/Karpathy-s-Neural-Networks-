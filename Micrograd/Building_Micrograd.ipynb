{
  "nbformat": 4,
  "nbformat_minor": 0,
  "metadata": {
    "colab": {
      "provenance": [],
      "authorship_tag": "ABX9TyMHuDs7uNPntwD3OR8BfpXw",
      "include_colab_link": true
    },
    "kernelspec": {
      "name": "python3",
      "display_name": "Python 3"
    },
    "language_info": {
      "name": "python"
    }
  },
  "cells": [
    {
      "cell_type": "markdown",
      "metadata": {
        "id": "view-in-github",
        "colab_type": "text"
      },
      "source": [
        "<a href=\"https://colab.research.google.com/github/NajlaaNawaii/Karpathy-s-Neural-Networks-/blob/main/Micrograd/Building_Micrograd.ipynb\" target=\"_parent\"><img src=\"https://colab.research.google.com/assets/colab-badge.svg\" alt=\"Open In Colab\"/></a>"
      ]
    },
    {
      "cell_type": "markdown",
      "source": [
        "#Derivatives\n",
        "- When I differentiate a function with respect to a particular variable, I'm determining how much the function's value changes when I slightly adjust that specific variable."
      ],
      "metadata": {
        "id": "9i4MnGRVVuPo"
      }
    },
    {
      "cell_type": "markdown",
      "source": [
        "#Visualization code to draw the computational graph"
      ],
      "metadata": {
        "id": "aQ6lmZrSgL0X"
      }
    },
    {
      "cell_type": "code",
      "source": [
        "from graphviz import Digraph\n",
        "\n",
        "def trace(root):\n",
        "    # builds a set of all nodes and edges in a graph\n",
        "    nodes, edges = set(), set()\n",
        "    def build(v):\n",
        "        if v not in nodes:\n",
        "            nodes.add(v)\n",
        "            for child in v._prev:\n",
        "                edges.add((child, v))\n",
        "                build(child)\n",
        "    build(root)\n",
        "    return nodes, edges\n",
        "\n",
        "def draw_dot(root):\n",
        "    dot = Digraph(format='svg', graph_attr={'rankdir': 'LR'})  # LR = left to right\n",
        "\n",
        "    nodes, edges = trace(root)\n",
        "\n",
        "    for n in nodes:\n",
        "        uid = str(id(n))\n",
        "        # for any value in the graph, create a rectangular ('record') node for it\n",
        "        dot.node(name=uid, label=\"{ %s | data %.4f |grad %.4f}\" % (n.label, n.data, n.grad), shape='record')\n",
        "        if n._op:\n",
        "            # if this value is a result of some operation, create an op node for it\n",
        "            dot.node(name=uid + n._op, label=n._op)\n",
        "            # and connect this node to it\n",
        "            dot.edge(uid + n._op, uid)\n",
        "\n",
        "    for n1, n2 in edges:\n",
        "        # connect n1 to the op node of n2\n",
        "        dot.edge(str(id(n1)), str(id(n2)) + n2._op)\n",
        "\n",
        "    return dot\n"
      ],
      "metadata": {
        "id": "OMZPhIrYfRIc"
      },
      "execution_count": 1,
      "outputs": []
    },
    {
      "cell_type": "markdown",
      "source": [
        "#Value Class\n",
        "The `Value` class in a neural network tracks the results of calculations during the forward pass and stores how those results were obtained. It also maintains the computational graph, which is essential for backpropagation. Each instance of the `Value` class represents weights, biases, or intermediate results and defines how gradients are calculated and propagated during training. This enables the automatic differentiation needed for optimizing the network."
      ],
      "metadata": {
        "id": "lpXanmPCUd6o"
      }
    },
    {
      "cell_type": "code",
      "source": [
        "class Value:\n",
        "\n",
        "  def __init__(self,data,_children=(),_op=\"\",label=\"\"):\n",
        "    self.data=data\n",
        "    self._prev=set(_children)\n",
        "    # Stores the function to calculate the gradient during backpropagation\n",
        "    self._backward=lambda:None\n",
        "    self.grad=0\n",
        "    self._op=_op\n",
        "    self.label=label\n",
        "\n",
        "  # Returns a string representation of the Value object\n",
        "  def __repr__(self):\n",
        "    return f\"Value(data={self.data})\"\n",
        "\n",
        "  # Defines how two Value objects (or a Value and a number) are added together\n",
        "  def __add__(self,other):\n",
        "    # Ensure the \"other \"\" is a Value object\n",
        "    other = other  if isinstance(other,Value) else Value(other)\n",
        "    output=Value(self.data + other.data, (self,other),\"+\")\n",
        "    def _backward():\n",
        "      #adding the contrbution of upper stream gradients, preventing overwriting\n",
        "      self.grad += 1.0 * output.grad\n",
        "      other.grad += 1.0 * output.grad\n",
        "    output._backward= _backward\n",
        "    return output\n",
        "\n",
        "  # Defines subtraction as negating the other operand and adding\n",
        "  def __neg__(self):\n",
        "    return self*-1\n",
        "\n",
        "  def __sub__(self,other):\n",
        "    return self + other.__neg__()\n",
        "\n",
        "\n",
        "  # Defines how two Value objects (or a Value and a number) are multiplied\n",
        "  def __mul__(self,other):\n",
        "    # Ensure the \"other\" operand is a Value object\n",
        "    other= other  if isinstance(other,Value) else Value(other)\n",
        "    output=Value(self.data * other.data, (self,other),\"*\")\n",
        "    def _backward():\n",
        "      self.grad += other.data * output.grad\n",
        "      other.grad += self.data * output.grad\n",
        "\n",
        "    output._backward=_backward\n",
        "    return output\n",
        "\n",
        "  # Handles multiplication when the Value object is on the right side of the operator\n",
        "  def __rmul__(self, other):\n",
        "        return self * other\n",
        "\n",
        "\n",
        "  # Defines true division (e.g., a / b) as multiplication by the reciprocal\n",
        "  def __truediv__(self, other):\n",
        "      return self * other ** -1\n",
        "\n",
        "\n",
        "  # Defines how a Value object is raised to a power\n",
        "  def __pow__(self,other):\n",
        "    assert isinstance(other,(int,float))\n",
        "    output=Value(self.data**other, (self,),\"**\")\n",
        "    def _backward():\n",
        "      self.grad += other * (self.data**(other-1)) * output.grad\n",
        "    output._backward=_backward\n",
        "    return output\n",
        "\n",
        "  # Defines the exponential function and its gradient\n",
        "  def exp(self):\n",
        "      output = Value(np.exp(self.data), (self,), \"exp\")\n",
        "      def _backward():\n",
        "          # Accumulates the gradient considering the derivative of exp\n",
        "          self.grad += output.data * output.grad\n",
        "      output._backward = _backward\n",
        "      return output\n",
        "\n",
        "\n",
        "\n",
        "  # Defines the tanh activation function and its gradient\n",
        "  def tanh(self):\n",
        "    x=self.data\n",
        "    tanh_output=(np.exp(2*x)-1)/(np.exp(2*x)+1)\n",
        "    output=Value(tanh_output, (self,),\"tanh\")\n",
        "    def _backward():\n",
        "      self.grad += (1-tanh_output**2) * output.grad\n",
        "    output._backward=_backward\n",
        "    return output\n",
        "\n",
        "\n",
        "  #Building the topological order of the computational graph\n",
        "  def backward(self):\n",
        "    topo=[]\n",
        "    visited=set()\n",
        "    def build_topo(v):\n",
        "      if v not in visited:\n",
        "        visited.add(v)\n",
        "        for child in v._prev:\n",
        "          build_topo(child)\n",
        "        # Adds node to the list only after all its dependencies are processed\n",
        "        topo.append(v)\n",
        "\n",
        "\n",
        "    build_topo(self)\n",
        "\n",
        "    #Base case: Initialize the gradient at the output (starting point)\n",
        "    self.grad=1.0\n",
        "    # Apply the chain rule to propagate the gradients backward\n",
        "    for node in reversed(topo):\n",
        "      node._backward()\n"
      ],
      "metadata": {
        "id": "gQsLD9mhUb87"
      },
      "execution_count": 5,
      "outputs": []
    },
    {
      "cell_type": "code",
      "source": [
        "import random,numpy as np"
      ],
      "metadata": {
        "id": "qzMGMGLJyc7g"
      },
      "execution_count": 11,
      "outputs": []
    },
    {
      "cell_type": "code",
      "source": [
        "#Inputs\n",
        "x1=Value(2.0,label=\"x1\")\n",
        "x2=Value(0.0,label=\"x2\")\n",
        "\n",
        "#weights\n",
        "w1=Value(-3.0,label=\"w1\")\n",
        "w2=Value(1.0,label=\"w2\")\n",
        "\n",
        "#bias\n",
        "b=Value(6.8813735870195432,label=\"b\")\n",
        "\n",
        "\n",
        "#input_layer\n",
        "x1w1=x1*w1; x1w1.label=\"x1w1\"\n",
        "x2w2=x2*w2; x2w2.label=\"x2w2\"\n",
        "\n",
        "# output\n",
        "summed=x1w1+x2w2; summed.label=\"summed\"\n",
        "biased_sum=summed + b; biased_sum.label=\"biased_sum\"\n",
        "\n",
        "#activated_output\n",
        "# activated_output= biased_sum.tanh(); activated_output.label=\"activated_output\"\n",
        "\n",
        "#replacing tanh with its components functions\n",
        "exp_output= (2*biased_sum).exp(); exp_output.label=\"exp_output\" #that's why we need rmul\n",
        "activated_output=(exp_output-1) / (exp_output+1) ; activated_output.label=\"activated_output\""
      ],
      "metadata": {
        "id": "z35Q_bUhazov"
      },
      "execution_count": 8,
      "outputs": []
    },
    {
      "cell_type": "code",
      "source": [
        "activated_output.backward()"
      ],
      "metadata": {
        "id": "nIqky-EJa109"
      },
      "execution_count": 9,
      "outputs": []
    },
    {
      "cell_type": "code",
      "source": [
        "draw_dot(activated_output)"
      ],
      "metadata": {
        "colab": {
          "base_uri": "https://localhost:8080/",
          "height": 321
        },
        "id": "vxgs1l8ea399",
        "outputId": "70e6579b-9dc2-4b84-a0db-40c634f0b5ef"
      },
      "execution_count": 10,
      "outputs": [
        {
          "output_type": "execute_result",
          "data": {
            "image/svg+xml": "<?xml version=\"1.0\" encoding=\"UTF-8\" standalone=\"no\"?>\n<!DOCTYPE svg PUBLIC \"-//W3C//DTD SVG 1.1//EN\"\n \"http://www.w3.org/Graphics/SVG/1.1/DTD/svg11.dtd\">\n<!-- Generated by graphviz version 2.43.0 (0)\n -->\n<!-- Title: %3 Pages: 1 -->\n<svg width=\"3090pt\" height=\"210pt\"\n viewBox=\"0.00 0.00 3090.00 210.00\" xmlns=\"http://www.w3.org/2000/svg\" xmlns:xlink=\"http://www.w3.org/1999/xlink\">\n<g id=\"graph0\" class=\"graph\" transform=\"scale(1 1) rotate(0) translate(4 206)\">\n<title>%3</title>\n<polygon fill=\"white\" stroke=\"transparent\" points=\"-4,4 -4,-206 3086,-206 3086,4 -4,4\"/>\n<!-- 135215977437248 -->\n<g id=\"node1\" class=\"node\">\n<title>135215977437248</title>\n<polygon fill=\"none\" stroke=\"black\" points=\"1726.5,-136.5 1726.5,-172.5 1912.5,-172.5 1912.5,-136.5 1726.5,-136.5\"/>\n<text text-anchor=\"middle\" x=\"1736.5\" y=\"-150.8\" font-family=\"Times,serif\" font-size=\"14.00\"> </text>\n<polyline fill=\"none\" stroke=\"black\" points=\"1746.5,-136.5 1746.5,-172.5 \"/>\n<text text-anchor=\"middle\" x=\"1786.5\" y=\"-150.8\" font-family=\"Times,serif\" font-size=\"14.00\">data 1.0000</text>\n<polyline fill=\"none\" stroke=\"black\" points=\"1826.5,-136.5 1826.5,-172.5 \"/>\n<text text-anchor=\"middle\" x=\"1869.5\" y=\"-150.8\" font-family=\"Times,serif\" font-size=\"14.00\">grad &#45;0.1036</text>\n</g>\n<!-- 135215977436816+ -->\n<g id=\"node5\" class=\"node\">\n<title>135215977436816+</title>\n<ellipse fill=\"none\" stroke=\"black\" cx=\"2002\" cy=\"-126.5\" rx=\"27\" ry=\"18\"/>\n<text text-anchor=\"middle\" x=\"2002\" y=\"-122.8\" font-family=\"Times,serif\" font-size=\"14.00\">+</text>\n</g>\n<!-- 135215977437248&#45;&gt;135215977436816+ -->\n<g id=\"edge23\" class=\"edge\">\n<title>135215977437248&#45;&gt;135215977436816+</title>\n<path fill=\"none\" stroke=\"black\" d=\"M1912.6,-140.21C1931.38,-137.3 1950.06,-134.4 1965.38,-132.03\"/>\n<polygon fill=\"black\" stroke=\"black\" points=\"1966.05,-135.46 1975.4,-130.47 1964.98,-128.55 1966.05,-135.46\"/>\n</g>\n<!-- 135215977444976 -->\n<g id=\"node2\" class=\"node\">\n<title>135215977444976</title>\n<polygon fill=\"none\" stroke=\"black\" points=\"2.5,-165.5 2.5,-201.5 197.5,-201.5 197.5,-165.5 2.5,-165.5\"/>\n<text text-anchor=\"middle\" x=\"19\" y=\"-179.8\" font-family=\"Times,serif\" font-size=\"14.00\">w2</text>\n<polyline fill=\"none\" stroke=\"black\" points=\"35.5,-165.5 35.5,-201.5 \"/>\n<text text-anchor=\"middle\" x=\"75.5\" y=\"-179.8\" font-family=\"Times,serif\" font-size=\"14.00\">data 1.0000</text>\n<polyline fill=\"none\" stroke=\"black\" points=\"115.5,-165.5 115.5,-201.5 \"/>\n<text text-anchor=\"middle\" x=\"156.5\" y=\"-179.8\" font-family=\"Times,serif\" font-size=\"14.00\">grad 0.0000</text>\n</g>\n<!-- 135215977432496* -->\n<g id=\"node7\" class=\"node\">\n<title>135215977432496*</title>\n<ellipse fill=\"none\" stroke=\"black\" cx=\"263\" cy=\"-128.5\" rx=\"27\" ry=\"18\"/>\n<text text-anchor=\"middle\" x=\"263\" y=\"-124.8\" font-family=\"Times,serif\" font-size=\"14.00\">*</text>\n</g>\n<!-- 135215977444976&#45;&gt;135215977432496* -->\n<g id=\"edge25\" class=\"edge\">\n<title>135215977444976&#45;&gt;135215977432496*</title>\n<path fill=\"none\" stroke=\"black\" d=\"M172.53,-165.44C181.84,-162.67 191.2,-159.67 200,-156.5 210.53,-152.71 221.75,-147.9 231.72,-143.33\"/>\n<polygon fill=\"black\" stroke=\"black\" points=\"233.25,-146.48 240.82,-139.07 230.28,-140.14 233.25,-146.48\"/>\n</g>\n<!-- 135215977431680 -->\n<g id=\"node3\" class=\"node\">\n<title>135215977431680</title>\n<polygon fill=\"none\" stroke=\"black\" points=\"4,-110.5 4,-146.5 196,-146.5 196,-110.5 4,-110.5\"/>\n<text text-anchor=\"middle\" x=\"19\" y=\"-124.8\" font-family=\"Times,serif\" font-size=\"14.00\">x2</text>\n<polyline fill=\"none\" stroke=\"black\" points=\"34,-110.5 34,-146.5 \"/>\n<text text-anchor=\"middle\" x=\"74\" y=\"-124.8\" font-family=\"Times,serif\" font-size=\"14.00\">data 0.0000</text>\n<polyline fill=\"none\" stroke=\"black\" points=\"114,-110.5 114,-146.5 \"/>\n<text text-anchor=\"middle\" x=\"155\" y=\"-124.8\" font-family=\"Times,serif\" font-size=\"14.00\">grad 0.5000</text>\n</g>\n<!-- 135215977431680&#45;&gt;135215977432496* -->\n<g id=\"edge27\" class=\"edge\">\n<title>135215977431680&#45;&gt;135215977432496*</title>\n<path fill=\"none\" stroke=\"black\" d=\"M196.05,-128.5C206.52,-128.5 216.65,-128.5 225.71,-128.5\"/>\n<polygon fill=\"black\" stroke=\"black\" points=\"225.79,-132 235.79,-128.5 225.79,-125 225.79,-132\"/>\n</g>\n<!-- 135215977436816 -->\n<g id=\"node4\" class=\"node\">\n<title>135215977436816</title>\n<polygon fill=\"none\" stroke=\"black\" points=\"2065,-108.5 2065,-144.5 2251,-144.5 2251,-108.5 2065,-108.5\"/>\n<text text-anchor=\"middle\" x=\"2075\" y=\"-122.8\" font-family=\"Times,serif\" font-size=\"14.00\"> </text>\n<polyline fill=\"none\" stroke=\"black\" points=\"2085,-108.5 2085,-144.5 \"/>\n<text text-anchor=\"middle\" x=\"2125\" y=\"-122.8\" font-family=\"Times,serif\" font-size=\"14.00\">data 6.8284</text>\n<polyline fill=\"none\" stroke=\"black\" points=\"2165,-108.5 2165,-144.5 \"/>\n<text text-anchor=\"middle\" x=\"2208\" y=\"-122.8\" font-family=\"Times,serif\" font-size=\"14.00\">grad &#45;0.1036</text>\n</g>\n<!-- 135215977437008** -->\n<g id=\"node22\" class=\"node\">\n<title>135215977437008**</title>\n<ellipse fill=\"none\" stroke=\"black\" cx=\"2378\" cy=\"-126.5\" rx=\"27\" ry=\"18\"/>\n<text text-anchor=\"middle\" x=\"2378\" y=\"-122.8\" font-family=\"Times,serif\" font-size=\"14.00\">**</text>\n</g>\n<!-- 135215977436816&#45;&gt;135215977437008** -->\n<g id=\"edge16\" class=\"edge\">\n<title>135215977436816&#45;&gt;135215977437008**</title>\n<path fill=\"none\" stroke=\"black\" d=\"M2251.14,-126.5C2282.72,-126.5 2316.24,-126.5 2340.74,-126.5\"/>\n<polygon fill=\"black\" stroke=\"black\" points=\"2340.98,-130 2350.98,-126.5 2340.98,-123 2340.98,-130\"/>\n</g>\n<!-- 135215977436816+&#45;&gt;135215977436816 -->\n<g id=\"edge1\" class=\"edge\">\n<title>135215977436816+&#45;&gt;135215977436816</title>\n<path fill=\"none\" stroke=\"black\" d=\"M2029.12,-126.5C2036.62,-126.5 2045.29,-126.5 2054.5,-126.5\"/>\n<polygon fill=\"black\" stroke=\"black\" points=\"2054.69,-130 2064.69,-126.5 2054.69,-123 2054.69,-130\"/>\n</g>\n<!-- 135215977432496 -->\n<g id=\"node6\" class=\"node\">\n<title>135215977432496</title>\n<polygon fill=\"none\" stroke=\"black\" points=\"328.5,-110.5 328.5,-146.5 537.5,-146.5 537.5,-110.5 328.5,-110.5\"/>\n<text text-anchor=\"middle\" x=\"352\" y=\"-124.8\" font-family=\"Times,serif\" font-size=\"14.00\">x2w2</text>\n<polyline fill=\"none\" stroke=\"black\" points=\"375.5,-110.5 375.5,-146.5 \"/>\n<text text-anchor=\"middle\" x=\"415.5\" y=\"-124.8\" font-family=\"Times,serif\" font-size=\"14.00\">data 0.0000</text>\n<polyline fill=\"none\" stroke=\"black\" points=\"455.5,-110.5 455.5,-146.5 \"/>\n<text text-anchor=\"middle\" x=\"496.5\" y=\"-124.8\" font-family=\"Times,serif\" font-size=\"14.00\">grad 0.5000</text>\n</g>\n<!-- 135215977437104+ -->\n<g id=\"node28\" class=\"node\">\n<title>135215977437104+</title>\n<ellipse fill=\"none\" stroke=\"black\" cx=\"603\" cy=\"-100.5\" rx=\"27\" ry=\"18\"/>\n<text text-anchor=\"middle\" x=\"603\" y=\"-96.8\" font-family=\"Times,serif\" font-size=\"14.00\">+</text>\n</g>\n<!-- 135215977432496&#45;&gt;135215977437104+ -->\n<g id=\"edge21\" class=\"edge\">\n<title>135215977432496&#45;&gt;135215977437104+</title>\n<path fill=\"none\" stroke=\"black\" d=\"M537.53,-111.25C547.8,-109.53 557.66,-107.89 566.45,-106.43\"/>\n<polygon fill=\"black\" stroke=\"black\" points=\"567.3,-109.83 576.59,-104.74 566.15,-102.93 567.3,-109.83\"/>\n</g>\n<!-- 135215977432496*&#45;&gt;135215977432496 -->\n<g id=\"edge2\" class=\"edge\">\n<title>135215977432496*&#45;&gt;135215977432496</title>\n<path fill=\"none\" stroke=\"black\" d=\"M290.25,-128.5C298.43,-128.5 308.03,-128.5 318.31,-128.5\"/>\n<polygon fill=\"black\" stroke=\"black\" points=\"318.35,-132 328.35,-128.5 318.35,-125 318.35,-132\"/>\n</g>\n<!-- 135215977442480 -->\n<g id=\"node8\" class=\"node\">\n<title>135215977442480</title>\n<polygon fill=\"none\" stroke=\"black\" points=\"2,-55.5 2,-91.5 198,-91.5 198,-55.5 2,-55.5\"/>\n<text text-anchor=\"middle\" x=\"17\" y=\"-69.8\" font-family=\"Times,serif\" font-size=\"14.00\">x1</text>\n<polyline fill=\"none\" stroke=\"black\" points=\"32,-55.5 32,-91.5 \"/>\n<text text-anchor=\"middle\" x=\"72\" y=\"-69.8\" font-family=\"Times,serif\" font-size=\"14.00\">data 2.0000</text>\n<polyline fill=\"none\" stroke=\"black\" points=\"112,-55.5 112,-91.5 \"/>\n<text text-anchor=\"middle\" x=\"155\" y=\"-69.8\" font-family=\"Times,serif\" font-size=\"14.00\">grad &#45;1.5000</text>\n</g>\n<!-- 135215977446752* -->\n<g id=\"node26\" class=\"node\">\n<title>135215977446752*</title>\n<ellipse fill=\"none\" stroke=\"black\" cx=\"263\" cy=\"-73.5\" rx=\"27\" ry=\"18\"/>\n<text text-anchor=\"middle\" x=\"263\" y=\"-69.8\" font-family=\"Times,serif\" font-size=\"14.00\">*</text>\n</g>\n<!-- 135215977442480&#45;&gt;135215977446752* -->\n<g id=\"edge24\" class=\"edge\">\n<title>135215977442480&#45;&gt;135215977446752*</title>\n<path fill=\"none\" stroke=\"black\" d=\"M198.37,-73.5C208.05,-73.5 217.4,-73.5 225.8,-73.5\"/>\n<polygon fill=\"black\" stroke=\"black\" points=\"225.91,-77 235.91,-73.5 225.91,-70 225.91,-77\"/>\n</g>\n<!-- 135215977439936 -->\n<g id=\"node9\" class=\"node\">\n<title>135215977439936</title>\n<polygon fill=\"none\" stroke=\"black\" points=\"1726,-26.5 1726,-62.5 1913,-62.5 1913,-26.5 1726,-26.5\"/>\n<text text-anchor=\"middle\" x=\"1736\" y=\"-40.8\" font-family=\"Times,serif\" font-size=\"14.00\"> </text>\n<polyline fill=\"none\" stroke=\"black\" points=\"1746,-26.5 1746,-62.5 \"/>\n<text text-anchor=\"middle\" x=\"1788.5\" y=\"-40.8\" font-family=\"Times,serif\" font-size=\"14.00\">data &#45;1.0000</text>\n<polyline fill=\"none\" stroke=\"black\" points=\"1831,-26.5 1831,-62.5 \"/>\n<text text-anchor=\"middle\" x=\"1872\" y=\"-40.8\" font-family=\"Times,serif\" font-size=\"14.00\">grad 0.1464</text>\n</g>\n<!-- 135215977446608+ -->\n<g id=\"node11\" class=\"node\">\n<title>135215977446608+</title>\n<ellipse fill=\"none\" stroke=\"black\" cx=\"2002\" cy=\"-71.5\" rx=\"27\" ry=\"18\"/>\n<text text-anchor=\"middle\" x=\"2002\" y=\"-67.8\" font-family=\"Times,serif\" font-size=\"14.00\">+</text>\n</g>\n<!-- 135215977439936&#45;&gt;135215977446608+ -->\n<g id=\"edge20\" class=\"edge\">\n<title>135215977439936&#45;&gt;135215977446608+</title>\n<path fill=\"none\" stroke=\"black\" d=\"M1913.13,-58.36C1931.84,-61.15 1950.41,-63.93 1965.62,-66.21\"/>\n<polygon fill=\"black\" stroke=\"black\" points=\"1965.18,-69.68 1975.58,-67.7 1966.21,-62.76 1965.18,-69.68\"/>\n</g>\n<!-- 135215977446608 -->\n<g id=\"node10\" class=\"node\">\n<title>135215977446608</title>\n<polygon fill=\"none\" stroke=\"black\" points=\"2287,-53.5 2287,-89.5 2469,-89.5 2469,-53.5 2287,-53.5\"/>\n<text text-anchor=\"middle\" x=\"2297\" y=\"-67.8\" font-family=\"Times,serif\" font-size=\"14.00\"> </text>\n<polyline fill=\"none\" stroke=\"black\" points=\"2307,-53.5 2307,-89.5 \"/>\n<text text-anchor=\"middle\" x=\"2347\" y=\"-67.8\" font-family=\"Times,serif\" font-size=\"14.00\">data 4.8284</text>\n<polyline fill=\"none\" stroke=\"black\" points=\"2387,-53.5 2387,-89.5 \"/>\n<text text-anchor=\"middle\" x=\"2428\" y=\"-67.8\" font-family=\"Times,serif\" font-size=\"14.00\">grad 0.1464</text>\n</g>\n<!-- 135215977443056* -->\n<g id=\"node15\" class=\"node\">\n<title>135215977443056*</title>\n<ellipse fill=\"none\" stroke=\"black\" cx=\"2750\" cy=\"-98.5\" rx=\"27\" ry=\"18\"/>\n<text text-anchor=\"middle\" x=\"2750\" y=\"-94.8\" font-family=\"Times,serif\" font-size=\"14.00\">*</text>\n</g>\n<!-- 135215977446608&#45;&gt;135215977443056* -->\n<g id=\"edge19\" class=\"edge\">\n<title>135215977446608&#45;&gt;135215977443056*</title>\n<path fill=\"none\" stroke=\"black\" d=\"M2469.04,-78.07C2547.41,-83.79 2656.98,-91.79 2712.96,-95.87\"/>\n<polygon fill=\"black\" stroke=\"black\" points=\"2712.87,-99.37 2723.1,-96.61 2713.38,-92.39 2712.87,-99.37\"/>\n</g>\n<!-- 135215977446608+&#45;&gt;135215977446608 -->\n<g id=\"edge3\" class=\"edge\">\n<title>135215977446608+&#45;&gt;135215977446608</title>\n<path fill=\"none\" stroke=\"black\" d=\"M2029,-71.5C2079.46,-71.5 2193.06,-71.5 2276.81,-71.5\"/>\n<polygon fill=\"black\" stroke=\"black\" points=\"2276.87,-75 2286.87,-71.5 2276.87,-68 2276.87,-75\"/>\n</g>\n<!-- 135215977437920 -->\n<g id=\"node12\" class=\"node\">\n<title>135215977437920</title>\n<polygon fill=\"none\" stroke=\"black\" points=\"1023,-109.5 1023,-145.5 1266,-145.5 1266,-109.5 1023,-109.5\"/>\n<text text-anchor=\"middle\" x=\"1063.5\" y=\"-123.8\" font-family=\"Times,serif\" font-size=\"14.00\">biased_sum</text>\n<polyline fill=\"none\" stroke=\"black\" points=\"1104,-109.5 1104,-145.5 \"/>\n<text text-anchor=\"middle\" x=\"1144\" y=\"-123.8\" font-family=\"Times,serif\" font-size=\"14.00\">data 0.8814</text>\n<polyline fill=\"none\" stroke=\"black\" points=\"1184,-109.5 1184,-145.5 \"/>\n<text text-anchor=\"middle\" x=\"1225\" y=\"-123.8\" font-family=\"Times,serif\" font-size=\"14.00\">grad 0.5000</text>\n</g>\n<!-- 135215977445648* -->\n<g id=\"node18\" class=\"node\">\n<title>135215977445648*</title>\n<ellipse fill=\"none\" stroke=\"black\" cx=\"1329\" cy=\"-99.5\" rx=\"27\" ry=\"18\"/>\n<text text-anchor=\"middle\" x=\"1329\" y=\"-95.8\" font-family=\"Times,serif\" font-size=\"14.00\">*</text>\n</g>\n<!-- 135215977437920&#45;&gt;135215977445648* -->\n<g id=\"edge13\" class=\"edge\">\n<title>135215977437920&#45;&gt;135215977445648*</title>\n<path fill=\"none\" stroke=\"black\" d=\"M1262.89,-109.49C1273.53,-107.86 1283.65,-106.3 1292.61,-104.93\"/>\n<polygon fill=\"black\" stroke=\"black\" points=\"1293.2,-108.38 1302.55,-103.4 1292.14,-101.46 1293.2,-108.38\"/>\n</g>\n<!-- 135215977437920+ -->\n<g id=\"node13\" class=\"node\">\n<title>135215977437920+</title>\n<ellipse fill=\"none\" stroke=\"black\" cx=\"960\" cy=\"-127.5\" rx=\"27\" ry=\"18\"/>\n<text text-anchor=\"middle\" x=\"960\" y=\"-123.8\" font-family=\"Times,serif\" font-size=\"14.00\">+</text>\n</g>\n<!-- 135215977437920+&#45;&gt;135215977437920 -->\n<g id=\"edge4\" class=\"edge\">\n<title>135215977437920+&#45;&gt;135215977437920</title>\n<path fill=\"none\" stroke=\"black\" d=\"M987.15,-127.5C994.53,-127.5 1003.1,-127.5 1012.35,-127.5\"/>\n<polygon fill=\"black\" stroke=\"black\" points=\"1012.63,-131 1022.63,-127.5 1012.63,-124 1012.63,-131\"/>\n</g>\n<!-- 135215977443056 -->\n<g id=\"node14\" class=\"node\">\n<title>135215977443056</title>\n<polygon fill=\"none\" stroke=\"black\" points=\"2813,-80.5 2813,-116.5 3082,-116.5 3082,-80.5 2813,-80.5\"/>\n<text text-anchor=\"middle\" x=\"2866.5\" y=\"-94.8\" font-family=\"Times,serif\" font-size=\"14.00\">activated_output</text>\n<polyline fill=\"none\" stroke=\"black\" points=\"2920,-80.5 2920,-116.5 \"/>\n<text text-anchor=\"middle\" x=\"2960\" y=\"-94.8\" font-family=\"Times,serif\" font-size=\"14.00\">data 0.7071</text>\n<polyline fill=\"none\" stroke=\"black\" points=\"3000,-80.5 3000,-116.5 \"/>\n<text text-anchor=\"middle\" x=\"3041\" y=\"-94.8\" font-family=\"Times,serif\" font-size=\"14.00\">grad 1.0000</text>\n</g>\n<!-- 135215977443056*&#45;&gt;135215977443056 -->\n<g id=\"edge5\" class=\"edge\">\n<title>135215977443056*&#45;&gt;135215977443056</title>\n<path fill=\"none\" stroke=\"black\" d=\"M2777.37,-98.5C2784.79,-98.5 2793.43,-98.5 2802.79,-98.5\"/>\n<polygon fill=\"black\" stroke=\"black\" points=\"2802.79,-102 2812.79,-98.5 2802.79,-95 2802.79,-102\"/>\n</g>\n<!-- 135215977446656 -->\n<g id=\"node16\" class=\"node\">\n<title>135215977446656</title>\n<polygon fill=\"none\" stroke=\"black\" points=\"689,-137.5 689,-173.5 874,-173.5 874,-137.5 689,-137.5\"/>\n<text text-anchor=\"middle\" x=\"700.5\" y=\"-151.8\" font-family=\"Times,serif\" font-size=\"14.00\">b</text>\n<polyline fill=\"none\" stroke=\"black\" points=\"712,-137.5 712,-173.5 \"/>\n<text text-anchor=\"middle\" x=\"752\" y=\"-151.8\" font-family=\"Times,serif\" font-size=\"14.00\">data 6.8814</text>\n<polyline fill=\"none\" stroke=\"black\" points=\"792,-137.5 792,-173.5 \"/>\n<text text-anchor=\"middle\" x=\"833\" y=\"-151.8\" font-family=\"Times,serif\" font-size=\"14.00\">grad 0.5000</text>\n</g>\n<!-- 135215977446656&#45;&gt;135215977437920+ -->\n<g id=\"edge14\" class=\"edge\">\n<title>135215977446656&#45;&gt;135215977437920+</title>\n<path fill=\"none\" stroke=\"black\" d=\"M874.11,-140.97C891.67,-138.18 909.06,-135.42 923.48,-133.14\"/>\n<polygon fill=\"black\" stroke=\"black\" points=\"924.08,-136.58 933.41,-131.56 922.99,-129.67 924.08,-136.58\"/>\n</g>\n<!-- 135215977445648 -->\n<g id=\"node17\" class=\"node\">\n<title>135215977445648</title>\n<polygon fill=\"none\" stroke=\"black\" points=\"1392,-81.5 1392,-117.5 1574,-117.5 1574,-81.5 1392,-81.5\"/>\n<text text-anchor=\"middle\" x=\"1402\" y=\"-95.8\" font-family=\"Times,serif\" font-size=\"14.00\"> </text>\n<polyline fill=\"none\" stroke=\"black\" points=\"1412,-81.5 1412,-117.5 \"/>\n<text text-anchor=\"middle\" x=\"1452\" y=\"-95.8\" font-family=\"Times,serif\" font-size=\"14.00\">data 1.7627</text>\n<polyline fill=\"none\" stroke=\"black\" points=\"1492,-81.5 1492,-117.5 \"/>\n<text text-anchor=\"middle\" x=\"1533\" y=\"-95.8\" font-family=\"Times,serif\" font-size=\"14.00\">grad 0.2500</text>\n</g>\n<!-- 135215977439072exp -->\n<g id=\"node24\" class=\"node\">\n<title>135215977439072exp</title>\n<ellipse fill=\"none\" stroke=\"black\" cx=\"1637\" cy=\"-99.5\" rx=\"27\" ry=\"18\"/>\n<text text-anchor=\"middle\" x=\"1637\" y=\"-95.8\" font-family=\"Times,serif\" font-size=\"14.00\">exp</text>\n</g>\n<!-- 135215977445648&#45;&gt;135215977439072exp -->\n<g id=\"edge11\" class=\"edge\">\n<title>135215977445648&#45;&gt;135215977439072exp</title>\n<path fill=\"none\" stroke=\"black\" d=\"M1574.18,-99.5C1583.14,-99.5 1591.83,-99.5 1599.73,-99.5\"/>\n<polygon fill=\"black\" stroke=\"black\" points=\"1599.96,-103 1609.96,-99.5 1599.96,-96 1599.96,-103\"/>\n</g>\n<!-- 135215977445648*&#45;&gt;135215977445648 -->\n<g id=\"edge6\" class=\"edge\">\n<title>135215977445648*&#45;&gt;135215977445648</title>\n<path fill=\"none\" stroke=\"black\" d=\"M1356.13,-99.5C1363.67,-99.5 1372.39,-99.5 1381.64,-99.5\"/>\n<polygon fill=\"black\" stroke=\"black\" points=\"1381.87,-103 1391.87,-99.5 1381.87,-96 1381.87,-103\"/>\n</g>\n<!-- 135215977441040 -->\n<g id=\"node19\" class=\"node\">\n<title>135215977441040</title>\n<polygon fill=\"none\" stroke=\"black\" points=\"1053.5,-54.5 1053.5,-90.5 1235.5,-90.5 1235.5,-54.5 1053.5,-54.5\"/>\n<text text-anchor=\"middle\" x=\"1063.5\" y=\"-68.8\" font-family=\"Times,serif\" font-size=\"14.00\"> </text>\n<polyline fill=\"none\" stroke=\"black\" points=\"1073.5,-54.5 1073.5,-90.5 \"/>\n<text text-anchor=\"middle\" x=\"1113.5\" y=\"-68.8\" font-family=\"Times,serif\" font-size=\"14.00\">data 2.0000</text>\n<polyline fill=\"none\" stroke=\"black\" points=\"1153.5,-54.5 1153.5,-90.5 \"/>\n<text text-anchor=\"middle\" x=\"1194.5\" y=\"-68.8\" font-family=\"Times,serif\" font-size=\"14.00\">grad 0.2203</text>\n</g>\n<!-- 135215977441040&#45;&gt;135215977445648* -->\n<g id=\"edge12\" class=\"edge\">\n<title>135215977441040&#45;&gt;135215977445648*</title>\n<path fill=\"none\" stroke=\"black\" d=\"M1235.68,-85.84C1255.72,-88.81 1275.82,-91.78 1292.13,-94.19\"/>\n<polygon fill=\"black\" stroke=\"black\" points=\"1291.86,-97.69 1302.26,-95.69 1292.88,-90.77 1291.86,-97.69\"/>\n</g>\n<!-- 135215977447136 -->\n<g id=\"node20\" class=\"node\">\n<title>135215977447136</title>\n<polygon fill=\"none\" stroke=\"black\" points=\"0,-0.5 0,-36.5 200,-36.5 200,-0.5 0,-0.5\"/>\n<text text-anchor=\"middle\" x=\"16.5\" y=\"-14.8\" font-family=\"Times,serif\" font-size=\"14.00\">w1</text>\n<polyline fill=\"none\" stroke=\"black\" points=\"33,-0.5 33,-36.5 \"/>\n<text text-anchor=\"middle\" x=\"75.5\" y=\"-14.8\" font-family=\"Times,serif\" font-size=\"14.00\">data &#45;3.0000</text>\n<polyline fill=\"none\" stroke=\"black\" points=\"118,-0.5 118,-36.5 \"/>\n<text text-anchor=\"middle\" x=\"159\" y=\"-14.8\" font-family=\"Times,serif\" font-size=\"14.00\">grad 1.0000</text>\n</g>\n<!-- 135215977447136&#45;&gt;135215977446752* -->\n<g id=\"edge18\" class=\"edge\">\n<title>135215977447136&#45;&gt;135215977446752*</title>\n<path fill=\"none\" stroke=\"black\" d=\"M172.53,-36.56C181.84,-39.33 191.2,-42.33 200,-45.5 210.53,-49.29 221.75,-54.1 231.72,-58.67\"/>\n<polygon fill=\"black\" stroke=\"black\" points=\"230.28,-61.86 240.82,-62.93 233.25,-55.52 230.28,-61.86\"/>\n</g>\n<!-- 135215977437008 -->\n<g id=\"node21\" class=\"node\">\n<title>135215977437008</title>\n<polygon fill=\"none\" stroke=\"black\" points=\"2505,-106.5 2505,-142.5 2687,-142.5 2687,-106.5 2505,-106.5\"/>\n<text text-anchor=\"middle\" x=\"2515\" y=\"-120.8\" font-family=\"Times,serif\" font-size=\"14.00\"> </text>\n<polyline fill=\"none\" stroke=\"black\" points=\"2525,-106.5 2525,-142.5 \"/>\n<text text-anchor=\"middle\" x=\"2565\" y=\"-120.8\" font-family=\"Times,serif\" font-size=\"14.00\">data 0.1464</text>\n<polyline fill=\"none\" stroke=\"black\" points=\"2605,-106.5 2605,-142.5 \"/>\n<text text-anchor=\"middle\" x=\"2646\" y=\"-120.8\" font-family=\"Times,serif\" font-size=\"14.00\">grad 4.8284</text>\n</g>\n<!-- 135215977437008&#45;&gt;135215977443056* -->\n<g id=\"edge26\" class=\"edge\">\n<title>135215977437008&#45;&gt;135215977443056*</title>\n<path fill=\"none\" stroke=\"black\" d=\"M2687.18,-109.08C2696.42,-107.49 2705.38,-105.96 2713.47,-104.58\"/>\n<polygon fill=\"black\" stroke=\"black\" points=\"2714.29,-107.99 2723.56,-102.85 2713.11,-101.09 2714.29,-107.99\"/>\n</g>\n<!-- 135215977437008**&#45;&gt;135215977437008 -->\n<g id=\"edge7\" class=\"edge\">\n<title>135215977437008**&#45;&gt;135215977437008</title>\n<path fill=\"none\" stroke=\"black\" d=\"M2405.05,-126.26C2427.53,-126.05 2461.48,-125.74 2494.5,-125.43\"/>\n<polygon fill=\"black\" stroke=\"black\" points=\"2494.74,-128.93 2504.7,-125.34 2494.67,-121.93 2494.74,-128.93\"/>\n</g>\n<!-- 135215977439072 -->\n<g id=\"node23\" class=\"node\">\n<title>135215977439072</title>\n<polygon fill=\"none\" stroke=\"black\" points=\"1700,-81.5 1700,-117.5 1939,-117.5 1939,-81.5 1700,-81.5\"/>\n<text text-anchor=\"middle\" x=\"1738.5\" y=\"-95.8\" font-family=\"Times,serif\" font-size=\"14.00\">exp_output</text>\n<polyline fill=\"none\" stroke=\"black\" points=\"1777,-81.5 1777,-117.5 \"/>\n<text text-anchor=\"middle\" x=\"1817\" y=\"-95.8\" font-family=\"Times,serif\" font-size=\"14.00\">data 5.8284</text>\n<polyline fill=\"none\" stroke=\"black\" points=\"1857,-81.5 1857,-117.5 \"/>\n<text text-anchor=\"middle\" x=\"1898\" y=\"-95.8\" font-family=\"Times,serif\" font-size=\"14.00\">grad 0.0429</text>\n</g>\n<!-- 135215977439072&#45;&gt;135215977436816+ -->\n<g id=\"edge28\" class=\"edge\">\n<title>135215977439072&#45;&gt;135215977436816+</title>\n<path fill=\"none\" stroke=\"black\" d=\"M1939.13,-117.25C1948.53,-118.65 1957.47,-119.99 1965.48,-121.19\"/>\n<polygon fill=\"black\" stroke=\"black\" points=\"1965.03,-124.66 1975.44,-122.68 1966.07,-117.74 1965.03,-124.66\"/>\n</g>\n<!-- 135215977439072&#45;&gt;135215977446608+ -->\n<g id=\"edge22\" class=\"edge\">\n<title>135215977439072&#45;&gt;135215977446608+</title>\n<path fill=\"none\" stroke=\"black\" d=\"M1936.6,-81.49C1946.91,-79.89 1956.74,-78.37 1965.46,-77.01\"/>\n<polygon fill=\"black\" stroke=\"black\" points=\"1966.18,-80.44 1975.52,-75.45 1965.1,-73.53 1966.18,-80.44\"/>\n</g>\n<!-- 135215977439072exp&#45;&gt;135215977439072 -->\n<g id=\"edge8\" class=\"edge\">\n<title>135215977439072exp&#45;&gt;135215977439072</title>\n<path fill=\"none\" stroke=\"black\" d=\"M1664.25,-99.5C1671.64,-99.5 1680.22,-99.5 1689.47,-99.5\"/>\n<polygon fill=\"black\" stroke=\"black\" points=\"1689.74,-103 1699.74,-99.5 1689.74,-96 1689.74,-103\"/>\n</g>\n<!-- 135215977446752 -->\n<g id=\"node25\" class=\"node\">\n<title>135215977446752</title>\n<polygon fill=\"none\" stroke=\"black\" points=\"326,-55.5 326,-91.5 540,-91.5 540,-55.5 326,-55.5\"/>\n<text text-anchor=\"middle\" x=\"349.5\" y=\"-69.8\" font-family=\"Times,serif\" font-size=\"14.00\">x1w1</text>\n<polyline fill=\"none\" stroke=\"black\" points=\"373,-55.5 373,-91.5 \"/>\n<text text-anchor=\"middle\" x=\"415.5\" y=\"-69.8\" font-family=\"Times,serif\" font-size=\"14.00\">data &#45;6.0000</text>\n<polyline fill=\"none\" stroke=\"black\" points=\"458,-55.5 458,-91.5 \"/>\n<text text-anchor=\"middle\" x=\"499\" y=\"-69.8\" font-family=\"Times,serif\" font-size=\"14.00\">grad 0.5000</text>\n</g>\n<!-- 135215977446752&#45;&gt;135215977437104+ -->\n<g id=\"edge17\" class=\"edge\">\n<title>135215977446752&#45;&gt;135215977437104+</title>\n<path fill=\"none\" stroke=\"black\" d=\"M540.4,-90.6C549.72,-92.1 558.65,-93.53 566.68,-94.82\"/>\n<polygon fill=\"black\" stroke=\"black\" points=\"566.24,-98.3 576.66,-96.43 567.35,-91.39 566.24,-98.3\"/>\n</g>\n<!-- 135215977446752*&#45;&gt;135215977446752 -->\n<g id=\"edge9\" class=\"edge\">\n<title>135215977446752*&#45;&gt;135215977446752</title>\n<path fill=\"none\" stroke=\"black\" d=\"M290.25,-73.5C297.7,-73.5 306.34,-73.5 315.59,-73.5\"/>\n<polygon fill=\"black\" stroke=\"black\" points=\"315.84,-77 325.84,-73.5 315.84,-70 315.84,-77\"/>\n</g>\n<!-- 135215977437104 -->\n<g id=\"node27\" class=\"node\">\n<title>135215977437104</title>\n<polygon fill=\"none\" stroke=\"black\" points=\"666,-82.5 666,-118.5 897,-118.5 897,-82.5 666,-82.5\"/>\n<text text-anchor=\"middle\" x=\"698\" y=\"-96.8\" font-family=\"Times,serif\" font-size=\"14.00\">summed</text>\n<polyline fill=\"none\" stroke=\"black\" points=\"730,-82.5 730,-118.5 \"/>\n<text text-anchor=\"middle\" x=\"772.5\" y=\"-96.8\" font-family=\"Times,serif\" font-size=\"14.00\">data &#45;6.0000</text>\n<polyline fill=\"none\" stroke=\"black\" points=\"815,-82.5 815,-118.5 \"/>\n<text text-anchor=\"middle\" x=\"856\" y=\"-96.8\" font-family=\"Times,serif\" font-size=\"14.00\">grad 0.5000</text>\n</g>\n<!-- 135215977437104&#45;&gt;135215977437920+ -->\n<g id=\"edge15\" class=\"edge\">\n<title>135215977437104&#45;&gt;135215977437920+</title>\n<path fill=\"none\" stroke=\"black\" d=\"M897.27,-118.06C906.61,-119.49 915.51,-120.85 923.5,-122.07\"/>\n<polygon fill=\"black\" stroke=\"black\" points=\"923.03,-125.54 933.44,-123.59 924.09,-118.62 923.03,-125.54\"/>\n</g>\n<!-- 135215977437104+&#45;&gt;135215977437104 -->\n<g id=\"edge10\" class=\"edge\">\n<title>135215977437104+&#45;&gt;135215977437104</title>\n<path fill=\"none\" stroke=\"black\" d=\"M630.04,-100.5C637.59,-100.5 646.37,-100.5 655.82,-100.5\"/>\n<polygon fill=\"black\" stroke=\"black\" points=\"655.89,-104 665.89,-100.5 655.89,-97 655.89,-104\"/>\n</g>\n</g>\n</svg>\n",
            "text/plain": [
              "<graphviz.graphs.Digraph at 0x7afa6c4db850>"
            ]
          },
          "metadata": {},
          "execution_count": 10
        }
      ]
    },
    {
      "cell_type": "code",
      "source": [],
      "metadata": {
        "id": "FzgcFKcqP5_d"
      },
      "execution_count": null,
      "outputs": []
    },
    {
      "cell_type": "markdown",
      "source": [
        "#Neural Network"
      ],
      "metadata": {
        "id": "Jfr-zM9XU1aa"
      }
    },
    {
      "cell_type": "code",
      "source": [
        "class Neuron:\n",
        "  def __init__(self,nin):\n",
        "    # Randomly initialize the weights and bias for this neuron\n",
        "    self.w=[Value(random.uniform(-1,1)) for _ in range(nin)]\n",
        "    self.b=Value(random.uniform(-1,1))\n",
        "\n",
        "\n",
        "\n",
        "  def __call__(self,x):\n",
        "    '''\n",
        "    - Operations with non_Value_Class x handled by definition in _mul_ & _add_\n",
        "    - Generator expression computes each weight * input pair on-the-fly\n",
        "    '''\n",
        "    #Sum starts with b\n",
        "    acttivation=sum((wi*xi for wi,xi in zip(self.w,x)),self.b)\n",
        "    output=acttivation.tanh()\n",
        "    return output\n",
        "\n",
        "  def parameters(self):\n",
        "    return self.w + [self.b]\n",
        "\n",
        "class Layer:\n",
        "  def __init__(self,nin,nout):\n",
        "    self.Neurons=[Neuron(nin) for _ in range(nout)]\n",
        "\n",
        "\n",
        "\n",
        "  def __call__(self,x):\n",
        "    outputs=[n(x) for n in self.Neurons]\n",
        "    #List of outputs, element for each neuron\n",
        "    return outputs[0] if len(outputs)==1 else outputs\n",
        "\n",
        "  def parameters(self):\n",
        "    return [p for neuron in self.Neurons for p in neuron.parameters()]\n",
        "\n",
        "\n",
        "class MLP:\n",
        "  def __init__(self,nin,nouts):\n",
        "    #Concatenate the nin to the beginning of nouts list\n",
        "    sizes=[nin]+nouts\n",
        "    self.Layers=[ Layer(sizes[i],sizes[i+1]) for i in range(len(nouts)) ]\n",
        "\n",
        "  def __call__(self,x):\n",
        "    # Feed the input through each layer in sequence\n",
        "    for layer in self.Layers:\n",
        "      x= layer(x)\n",
        "    return x\n",
        "\n",
        "  def parameters(self):\n",
        "    return [p for layer in self.Layers for p in layer.parameters()]\n",
        "\n",
        "\n"
      ],
      "metadata": {
        "id": "s6MobIZPU0OF"
      },
      "execution_count": 12,
      "outputs": []
    },
    {
      "cell_type": "code",
      "source": [
        "xs=[[2.0,3.0,-1.0],\n",
        "    [3.0,-1.0,0.5],\n",
        "    [0.5,1.0,1.0],\n",
        "    [1.0,1.0,-1.0]]\n",
        "\n",
        "ys=[1.0,-1.0,-1.0,1.0]\n",
        "N=MLP(3,[4,4,1])\n"
      ],
      "metadata": {
        "id": "NmDeyCVBGe7-"
      },
      "execution_count": 13,
      "outputs": []
    },
    {
      "cell_type": "markdown",
      "source": [
        "#Gradient Descent"
      ],
      "metadata": {
        "id": "5rcwypdjP0hg"
      }
    },
    {
      "cell_type": "code",
      "source": [
        "for step in range(100):\n",
        "  #Forward pass\n",
        "  ypred=[N(x) for x in xs]\n",
        "\n",
        "  #Loss Calculation\n",
        "  loss=sum(((y_hat - y_true)**2 for y_hat,y_true in zip(ypred,ys)),Value(0.0))\n",
        "\n",
        "\n",
        "  # Reset all gradients to zero before backpropagation\n",
        "  for p in N.parameters():\n",
        "    p.grad=0.0\n",
        "\n",
        "  # Backward pass: Compute the gradients of the loss with respect to all parameters\n",
        "  loss.backward()\n",
        "\n",
        "  # Update the parameters\n",
        "  for p in N.parameters():\n",
        "    p.data+=-.05*p.grad\n",
        "\n",
        "\n",
        "  print(step,loss.data)\n",
        "\n",
        "\n"
      ],
      "metadata": {
        "colab": {
          "base_uri": "https://localhost:8080/"
        },
        "id": "8PLeg_EpP4rw",
        "outputId": "9bd7ffff-ce2e-4e05-c37c-abb5bedbca7f"
      },
      "execution_count": 15,
      "outputs": [
        {
          "output_type": "stream",
          "name": "stdout",
          "text": [
            "0 0.015077454965343396\n",
            "1 0.014738855365610674\n",
            "2 0.014414804433208804\n",
            "3 0.014104393632840335\n",
            "4 0.013806788075755515\n",
            "5 0.013521219236647907\n",
            "6 0.013246978515436646\n",
            "7 0.012983411532027915\n",
            "8 0.012729913058741054\n",
            "9 0.012485922508965457\n",
            "10 0.01225091991226371\n",
            "11 0.012024422315947511\n",
            "12 0.01180598056144205\n",
            "13 0.011595176390777069\n",
            "14 0.011391619844513024\n",
            "15 0.01119494691749865\n",
            "16 0.01100481744320428\n",
            "17 0.010820913181101944\n",
            "18 0.010642936084765655\n",
            "19 0.010470606731121011\n",
            "20 0.0103036628936563\n",
            "21 0.010141858244465733\n",
            "22 0.009984961171783584\n",
            "23 0.009832753701220182\n",
            "24 0.009685030510265478\n",
            "25 0.009541598026805\n",
            "26 0.009402273603427071\n",
            "27 0.009266884760206038\n",
            "28 0.009135268489439142\n",
            "29 0.009007270616515458\n",
            "30 0.008882745211710988\n",
            "31 0.008761554048246531\n",
            "32 0.008643566102427811\n",
            "33 0.008528657092110828\n",
            "34 0.008416709050115037\n",
            "35 0.008307609929541306\n",
            "36 0.00820125323825024\n",
            "37 0.008097537700023652\n",
            "38 0.007996366940167145\n",
            "39 0.00789764919352686\n",
            "40 0.007801297033080204\n",
            "41 0.007707227117433171\n",
            "42 0.00761535995570754\n",
            "43 0.007525619688439979\n",
            "44 0.007437933883236351\n",
            "45 0.00735223334403841\n",
            "46 0.007268451932957349\n",
            "47 0.007186526403721378\n",
            "48 0.007106396245864529\n",
            "49 0.007028003538859132\n",
            "50 0.006951292815460426\n",
            "51 0.006876210933593091\n",
            "52 0.00680270695616407\n",
            "53 0.006730732038236746\n",
            "54 0.006660239321046573\n",
            "55 0.006591183832379734\n",
            "56 0.006523522392874633\n",
            "57 0.006457213527840096\n",
            "58 0.006392217384215412\n",
            "59 0.006328495652326777\n",
            "60 0.006266011492120447\n",
            "61 0.006204729463577105\n",
            "62 0.006144615461033877\n",
            "63 0.006085636651161203\n",
            "64 0.006027761414359378\n",
            "65 0.00597095928935756\n",
            "66 0.00591520092081313\n",
            "67 0.005860458009723811\n",
            "68 0.005806703266478245\n",
            "69 0.005753910366383248\n",
            "70 0.0057020539075163515\n",
            "71 0.0056511093707638915\n",
            "72 0.005601053081913323\n",
            "73 0.005551862175677973\n",
            "74 0.0055035145615404445\n",
            "75 0.005455988891308632\n",
            "76 0.0054092645282848425\n",
            "77 0.0053633215179557485\n",
            "78 0.0053181405601161495\n",
            "79 0.005273702982345854\n",
            "80 0.005229990714763448\n",
            "81 0.005186986265986317\n",
            "82 0.005144672700229957\n",
            "83 0.005103033615484182\n",
            "84 0.005062053122708325\n",
            "85 0.005021715825989353\n",
            "86 0.004982006803612575\n",
            "87 0.004942911589995294\n",
            "88 0.004904416158439024\n",
            "89 0.004866506904656327\n",
            "90 0.004829170631033058\n",
            "91 0.0047923945315871685\n",
            "92 0.00475616617758903\n",
            "93 0.004720473503809483\n",
            "94 0.0046853047953636165\n",
            "95 0.004650648675121065\n",
            "96 0.004616494091653766\n",
            "97 0.004582830307695578\n",
            "98 0.004549646889087795\n",
            "99 0.004516933694187349\n"
          ]
        }
      ]
    },
    {
      "cell_type": "markdown",
      "source": [
        "#What I learned ( While training Neural Nets )\n",
        "1. Better understanding of OOP.\n",
        "2. Defining operations for class instances with special functions.\n",
        "3. List comprehensions.\n",
        "4.  Generators.\n",
        "\n"
      ],
      "metadata": {
        "id": "OLZ_m0xdypeB"
      }
    },
    {
      "cell_type": "code",
      "source": [],
      "metadata": {
        "id": "NIJhmy6gznGV"
      },
      "execution_count": null,
      "outputs": []
    }
  ]
}